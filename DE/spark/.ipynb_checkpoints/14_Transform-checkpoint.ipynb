{
 "cells": [
  {
   "cell_type": "code",
   "execution_count": 23,
   "metadata": {},
   "outputs": [],
   "source": [
    "from IPython.core.interactiveshell import InteractiveShell\n",
    "InteractiveShell.ast_node_interactivity = \"all\""
   ]
  },
  {
   "cell_type": "code",
   "execution_count": 3,
   "metadata": {},
   "outputs": [
    {
     "name": "stdout",
     "output_type": "stream",
     "text": [
      "Requirement already satisfied: pandas in /home/big/.local/lib/python3.8/site-packages (1.4.4)\r\n",
      "Requirement already satisfied: python-dateutil>=2.8.1 in /home/big/.local/lib/python3.8/site-packages (from pandas) (2.8.2)\r\n",
      "Requirement already satisfied: pytz>=2020.1 in /home/big/.local/lib/python3.8/site-packages (from pandas) (2022.2.1)\r\n",
      "Requirement already satisfied: numpy>=1.18.5; platform_machine != \"aarch64\" and platform_machine != \"arm64\" and python_version < \"3.10\" in /home/big/.local/lib/python3.8/site-packages (from pandas) (1.23.2)\r\n",
      "Requirement already satisfied: six>=1.5 in /usr/lib/python3/dist-packages (from python-dateutil>=2.8.1->pandas) (1.14.0)\r\n"
     ]
    }
   ],
   "source": [
    "# !pip install matplotlib\n",
    "!pip install pandas\n",
    "# matplotlib 한글 꺠짐 방지\n",
    "# apt-get update\n",
    "# apt-get install fonts-nanum* \n",
    "# apt-get install fontconfig\n",
    "# fc-cache -fv  # font 캐시 날리기\n",
    "# rm -rf /home/hy1/.cache/matplotlib/  #matplotliob 폰트 캐시 날리기\n"
   ]
  },
  {
   "cell_type": "code",
   "execution_count": 27,
   "metadata": {},
   "outputs": [],
   "source": [
    "from datetime import date, datetime\n",
    "from pyspark.sql.types import *\n",
    "from pyspark.sql.functions import *\n",
    "import datetime as dt\n",
    "import pandas as pd\n",
    "import matplotlib.pyplot as plt #그래프 패키지 모듈 등록\n",
    "%matplotlib inline \n"
   ]
  },
  {
   "cell_type": "code",
   "execution_count": 28,
   "metadata": {},
   "outputs": [],
   "source": [
    "def cal_std_day(befor_day):   \n",
    "    x = dt.datetime.now() - dt.timedelta(befor_day)\n",
    "    year = x.year\n",
    "    month = x.month if x.month >= 10 else '0'+ str(x.month)\n",
    "    day = x.day if x.day >= 10 else '0'+ str(x.day)  \n",
    "    return str(year)+ '-' +str(month)+ '-' +str(day)"
   ]
  },
  {
   "cell_type": "code",
   "execution_count": 29,
   "metadata": {},
   "outputs": [],
   "source": [
    "import platform\n",
    "\n",
    "from matplotlib import font_manager, rc\n",
    "plt.rcParams['axes.unicode_minus'] = False\n",
    "\n",
    "if platform.system() == 'Darwin':  # 맥OS \n",
    "    rc('font', family='AppleGothic')\n",
    "elif platform.system() == 'Windows':  # 윈도우\n",
    "    path = \"c:/Windows/Fonts/malgun.ttf\"\n",
    "    font_name = font_manager.FontProperties(fname=path).get_name()\n",
    "    rc('font', family=font_name)\n",
    "else:\n",
    "    rc('font', family='NanumGothic')"
   ]
  },
  {
   "cell_type": "markdown",
   "metadata": {},
   "source": [
    "## Transform"
   ]
  },
  {
   "cell_type": "markdown",
   "metadata": {},
   "source": [
    "### 1. 지역별 단위면적(km)당 인구수와 코로나 확진자 수의 상관관계를 구해보자"
   ]
  },
  {
   "cell_type": "code",
   "execution_count": 5,
   "metadata": {
    "scrolled": true
   },
   "outputs": [
    {
     "name": "stderr",
     "output_type": "stream",
     "text": [
      "                                                                                \r"
     ]
    },
    {
     "name": "stdout",
     "output_type": "stream",
     "text": [
      "+----+-----+-----+\n",
      "| loc| area|ratio|\n",
      "+----+-----+-----+\n",
      "|서울| 605 |  0.6|\n",
      "|부산| 770 |  0.8|\n",
      "|대구| 883 |  0.9|\n",
      "|인천|1065 |  1.1|\n",
      "|광주| 501 |  0.5|\n",
      "+----+-----+-----+\n",
      "only showing top 5 rows\n",
      "\n",
      "+----+---------+---------+---------+\n",
      "| loc|    total|     male|   female|\n",
      "+----+---------+---------+---------+\n",
      "|전국|52739009 |26360035 |26378974 |\n",
      "|서울| 9736027 | 4721977 | 5014050 |\n",
      "|부산| 3396109 | 1663619 | 1732490 |\n",
      "|대구| 2412642 | 1189901 | 1222741 |\n",
      "|인천| 3014739 | 1513277 | 1501462 |\n",
      "+----+---------+---------+---------+\n",
      "only showing top 5 rows\n",
      "\n"
     ]
    }
   ],
   "source": [
    "# 면적, 인구 정보\n",
    "area = spark.read.csv('/corona_data/loc/sido_area.csv', encoding='CP949', header=True)\n",
    "popu = spark.read.csv('/corona_data/loc/sido_population.csv', encoding='CP949', header=True)\n",
    "\n",
    "area.show(5)\n",
    "popu.show(5)"
   ]
  },
  {
   "cell_type": "code",
   "execution_count": 6,
   "metadata": {
    "scrolled": true
   },
   "outputs": [
    {
     "name": "stdout",
     "output_type": "stream",
     "text": [
      "+----+------------+\n",
      "| loc|popu_density|\n",
      "+----+------------+\n",
      "|서울|       16093|\n",
      "|부산|        4411|\n",
      "|대구|        2733|\n",
      "|인천|        2831|\n",
      "|광주|        2920|\n",
      "|대전|        2722|\n",
      "|울산|        1072|\n",
      "|세종|         811|\n",
      "|경기|        1366|\n",
      "|강원|          93|\n",
      "|충북|         221|\n",
      "|충남|         265|\n",
      "|전북|         226|\n",
      "|전남|         152|\n",
      "|경북|         141|\n",
      "|경남|         321|\n",
      "|제주|         378|\n",
      "+----+------------+\n",
      "\n"
     ]
    }
   ],
   "source": [
    "area_popu = area.join(popu, on='loc')\n",
    "# area_popu.show()\n",
    "area_popu = area_popu.select(area_popu.loc, ceil((area_popu.total/area_popu.area)).alias('popu_density'))\n",
    "area_popu.show()"
   ]
  },
  {
   "cell_type": "code",
   "execution_count": 7,
   "metadata": {
    "scrolled": false
   },
   "outputs": [
    {
     "name": "stdout",
     "output_type": "stream",
     "text": [
      "+--------------------+---------+------+----------+--------------+----------+\n",
      "|               items|numOfRows|pageNo|resultCode|     resultMsg|totalCount|\n",
      "+--------------------+---------+------+----------+--------------+----------+\n",
      "|[{1465, 1461477, ...|      500|     1|        00|NORMAL SERVICE|     19684|\n",
      "+--------------------+---------+------+----------+--------------+----------+\n",
      "\n"
     ]
    }
   ],
   "source": [
    "# 코로나 감염자 데이터 가져오기\n",
    "file_name = '/corona_data/patient/corona_patient_' + cal_std_day(2) + '.json'\n",
    "tmp = spark.read.json(file_name, encoding='UTF-8')\n",
    "tmp.show(5)"
   ]
  },
  {
   "cell_type": "code",
   "execution_count": 8,
   "metadata": {
    "scrolled": true
   },
   "outputs": [
    {
     "name": "stdout",
     "output_type": "stream",
     "text": [
      "+--------+-------+-----+-------+----------------+------+------------+----------+-----------+-----------+-------+----------+\n",
      "|deathCnt| defCnt|gubun|gubunCn|         gubunEn|incDec|isolClearCnt|isolIngCnt|localOccCnt|overFlowCnt|qurRate|    stdDay|\n",
      "+--------+-------+-----+-------+----------------+------+------------+----------+-----------+-----------+-------+----------+\n",
      "|    1465|1461477| 경남|   庆南|Gyeongsangnam-do|  5884|           0|         0|       5867|         17|  44098|2022-09-14|\n",
      "|     637| 715090| 광주|   光州|         Gwangju|  2532|           0|         0|       2519|         13|  49604|2022-09-14|\n",
      "|    6963|6495551| 경기|   京畿|     Gyeonggi-do| 26133|           0|         0|      26110|         23|  47883|2022-09-14|\n",
      "+--------+-------+-----+-------+----------------+------+------------+----------+-----------+-----------+-------+----------+\n",
      "only showing top 3 rows\n",
      "\n",
      "+----+-------+\n",
      "| loc|qurRate|\n",
      "+----+-------+\n",
      "|경남|  44098|\n",
      "|광주|  49604|\n",
      "|경기|  47883|\n",
      "+----+-------+\n",
      "only showing top 3 rows\n",
      "\n"
     ]
    },
    {
     "name": "stderr",
     "output_type": "stream",
     "text": [
      "\r",
      "[Stage 13:=============================>                            (1 + 1) / 2]\r"
     ]
    },
    {
     "name": "stdout",
     "output_type": "stream",
     "text": [
      "+----+------------+-------+\n",
      "| loc|popu_density|qurRate|\n",
      "+----+------------+-------+\n",
      "|강원|          93|  45979|\n",
      "|경기|        1366|  47883|\n",
      "|경남|         321|  44098|\n",
      "|경북|         141|  41475|\n",
      "|광주|        2920|  49604|\n",
      "|대구|        2733|  43971|\n",
      "|대전|        2722|  48307|\n",
      "|부산|        4411|  43180|\n",
      "|서울|       16093|  49673|\n",
      "|세종|         811|  50913|\n",
      "|울산|        1072|  46618|\n",
      "|인천|        2831|  47227|\n",
      "|전남|         152|  43984|\n",
      "|전북|         226|  45901|\n",
      "|제주|         378|  48672|\n",
      "|충남|         265|  45963|\n",
      "|충북|         221|  47313|\n",
      "+----+------------+-------+\n",
      "\n"
     ]
    },
    {
     "name": "stderr",
     "output_type": "stream",
     "text": [
      "\r",
      "                                                                                \r"
     ]
    }
   ],
   "source": [
    "# 지역명과, 10만명 당 감염 현황\n",
    "tmp2 = tmp.select('items').first()\n",
    "co_patient = spark.createDataFrame(tmp2['items'])\n",
    "co_patient.show(3)\n",
    "\n",
    "tmp3 = co_patient.select(co_patient.gubun.alias('loc'), co_patient.qurRate)\n",
    "tmp3.show(3)\n",
    "co_rate = area_popu.join(tmp3, on='loc').distinct().orderBy(col('loc'))\n",
    "co_rate.show()"
   ]
  },
  {
   "cell_type": "code",
   "execution_count": 9,
   "metadata": {},
   "outputs": [
    {
     "data": {
      "text/plain": [
       "<AxesSubplot:xlabel='popu_density', ylabel='qurRate'>"
      ]
     },
     "execution_count": 9,
     "metadata": {},
     "output_type": "execute_result"
    },
    {
     "name": "stderr",
     "output_type": "stream",
     "text": [
      "findfont: Font family ['NanumGothic'] not found. Falling back to DejaVu Sans.\n"
     ]
    },
    {
     "data": {
      "image/png": "[encoded data removed]",
      "text/plain": [
       "<Figure size 600x600 with 1 Axes>"
      ]
     },
     "metadata": {},
     "output_type": "display_data"
    }
   ],
   "source": [
    "pd_co = co_rate.toPandas()\n",
    "\n",
    "pd_co['qurRate'] = pd_co['qurRate'].astype(int)\n",
    "pd_co.plot(kind='scatter'\n",
    "           ,x='popu_density'\n",
    "           ,y='qurRate'\n",
    "           ,ylim=(30000,50000)\n",
    "           ,figsize=(6, 6)\n",
    "          )\n"
   ]
  },
  {
   "cell_type": "markdown",
   "metadata": {},
   "source": [
    "### 2.  4차 예방접종 완료자와 코로나 확진자 수의 상관관계를 구해보자"
   ]
  },
  {
   "cell_type": "code",
   "execution_count": 9,
   "metadata": {
    "scrolled": true
   },
   "outputs": [
    {
     "name": "stdout",
     "output_type": "stream",
     "text": [
      "+----------------------+---------------------------+\n",
      "|                  data|                       mata|\n",
      "+----------------------+---------------------------+\n",
      "|[{서울, 8340502, 82...|{{지역, 1차 접종자 수, 2...|\n",
      "+----------------------+---------------------------+\n",
      "\n"
     ]
    },
    {
     "data": {
      "text/plain": [
       "Row(data=[Row(loc='서울', v1='8340502', v2='8261480', v3='6057684', v4='1226070'), Row(loc='부산', v1='2879898', v2='2850966', v3='2134635', v4='488630'), Row(loc='대구', v1='2019295', v2='1996343', v3='1402649', v4='259429'), Row(loc='인천', v1='2570641', v2='2546081', v3='1907586', v4='394343'), Row(loc='광주', v1='1262690', v2='1251019', v3='968067', v4='233610'), Row(loc='대전', v1='1246228', v2='1233946', v3='907587', v4='193191'), Row(loc='울산', v1='968595', v2='959237', v3='719491', v4='124886'), Row(loc='세종', v1='298593', v2='294823', v3='209151', v4='34585'), Row(loc='경기', v1='11827822', v2='11711865', v3='8677235', v4='1680362'), Row(loc='강원', v1='1350315', v2='1338931', v3='1062086', v4='269222'), Row(loc='충북', v1='1429582', v2='1416910', v3='1105875', v4='277332'), Row(loc='충남', v1='1899475', v2='1881779', v3='1475491', v4='365655'), Row(loc='전북', v1='1593746', v2='1580541', v3='1284133', v4='370187'), Row(loc='전남', v1='1654751', v2='1640068', v3='1363212', v4='444061'), Row(loc='경북', v1='2293357', v2='2269405', v3='1724517', v4='394769'), Row(loc='경남', v1='2883515', v2='2854106', v3='2142110', v4='483703'), Row(loc='제주', v1='590581', v2='584814', v3='437805', v4='92009')])"
      ]
     },
     "execution_count": 9,
     "metadata": {},
     "output_type": "execute_result"
    },
    {
     "name": "stdout",
     "output_type": "stream",
     "text": [
      "+----+--------+--------+-------+-------+\n",
      "| loc|      v1|      v2|     v3|     v4|\n",
      "+----+--------+--------+-------+-------+\n",
      "|서울| 8340502| 8261480|6057684|1226070|\n",
      "|부산| 2879898| 2850966|2134635| 488630|\n",
      "|대구| 2019295| 1996343|1402649| 259429|\n",
      "|인천| 2570641| 2546081|1907586| 394343|\n",
      "|광주| 1262690| 1251019| 968067| 233610|\n",
      "|대전| 1246228| 1233946| 907587| 193191|\n",
      "|울산|  968595|  959237| 719491| 124886|\n",
      "|세종|  298593|  294823| 209151|  34585|\n",
      "|경기|11827822|11711865|8677235|1680362|\n",
      "|강원| 1350315| 1338931|1062086| 269222|\n",
      "|충북| 1429582| 1416910|1105875| 277332|\n",
      "|충남| 1899475| 1881779|1475491| 365655|\n",
      "|전북| 1593746| 1580541|1284133| 370187|\n",
      "|전남| 1654751| 1640068|1363212| 444061|\n",
      "|경북| 2293357| 2269405|1724517| 394769|\n",
      "|경남| 2883515| 2854106|2142110| 483703|\n",
      "|제주|  590581|  584814| 437805|  92009|\n",
      "+----+--------+--------+-------+-------+\n",
      "\n",
      "+----+------+\n",
      "| loc|v_rate|\n",
      "+----+------+\n",
      "|서울|    13|\n",
      "|부산|    15|\n",
      "|대구|    11|\n",
      "|인천|    14|\n",
      "|광주|    16|\n",
      "|대전|    14|\n",
      "|울산|    11|\n",
      "|세종|    10|\n",
      "|경기|    13|\n",
      "|강원|    18|\n",
      "|충북|    17|\n",
      "|충남|    17|\n",
      "|전북|    21|\n",
      "|전남|    24|\n",
      "|경북|    15|\n",
      "|경남|    15|\n",
      "|제주|    14|\n",
      "+----+------+\n",
      "\n",
      "+----+------+-------+\n",
      "| loc|v_rate|qurRate|\n",
      "+----+------+-------+\n",
      "|강원|    18|  45979|\n",
      "|경기|    13|  47883|\n",
      "|경남|    15|  44098|\n",
      "|경북|    15|  41475|\n",
      "|광주|    16|  49604|\n",
      "+----+------+-------+\n",
      "only showing top 5 rows\n",
      "\n"
     ]
    }
   ],
   "source": [
    "file_name = '/corona_data/vaccine/corona_vaccine_' + cal_std_day(1) + '.json'\n",
    "vaccine = spark.read.json(file_name)\n",
    "vaccine.show(5)\n",
    "vaccine.select('data').first()\n",
    "vaccine_df = spark.createDataFrame(vaccine.select('data').first()['data'])\n",
    "vaccine_df.show()\n",
    "\n",
    "pop_vaccine = vaccine_df.join(popu, on='loc').select('loc', ceil((vaccine_df.v4/popu.total * 100)).alias('v_rate'))\n",
    "pop_vaccine.show(50)\n",
    "\n",
    "tmp3 = co_patient.select(co_patient.gubun.alias('loc'), co_patient.qurRate)\n",
    "co_vaccine_df =  pop_vaccine.join(tmp3, on='loc')\n",
    "co_vaccine_df = co_vaccine_df.select('loc', 'v_rate', 'qurRate').distinct()\n",
    "co_vaccine_df.show(5)"
   ]
  },
  {
   "cell_type": "code",
   "execution_count": 16,
   "metadata": {
    "scrolled": true
   },
   "outputs": [
    {
     "data": {
      "text/plain": [
       "<AxesSubplot:xlabel='v_rate', ylabel='qurRate'>"
      ]
     },
     "execution_count": 16,
     "metadata": {},
     "output_type": "execute_result"
    },
    {
     "data": {
      "image/png": "[encoded data removed]",
      "text/plain": [
       "<Figure size 700x700 with 1 Axes>"
      ]
     },
     "metadata": {},
     "output_type": "display_data"
    }
   ],
   "source": [
    "pd_vac = co_vaccine_df.toPandas()\n",
    "\n",
    "pd_vac['qurRate'] = pd_vac['qurRate'].astype(int)\n",
    "pd_vac.plot(kind='scatter'\n",
    "           ,x='v_rate'\n",
    "           ,y='qurRate'\n",
    "           ,figsize=(7, 7)\n",
    "          )\n"
   ]
  },
  {
   "cell_type": "markdown",
   "metadata": {},
   "source": [
    "### 3. 다중이용시설과 코로나 확진자 수의 상관관계"
   ]
  },
  {
   "cell_type": "code",
   "execution_count": 10,
   "metadata": {
    "scrolled": true
   },
   "outputs": [
    {
     "name": "stdout",
     "output_type": "stream",
     "text": [
      "+----+----+------+---------------------+--------------+----------------+\n",
      "|연도|광역|시군구|               시설명|사업자등록번호|          시설군|\n",
      "+----+----+------+---------------------+--------------+----------------+\n",
      "|2020|강원|강릉시|     (주)경포솔향온천|  127-86-57613|          목욕장|\n",
      "|2020|강원|강릉시|       24시황실사우나|  226-33-03247|          목욕장|\n",
      "|2020|강원|강릉시|         강릉고려병원|  226-82-03662|        의료기관|\n",
      "|2020|강원|강릉시|   강릉고속버스터미널|  219-81-01636|여객자동차터미널|\n",
      "|2020|강원|강릉시|       강릉교육문화관|  226-83-03107|          도서관|\n",
      "|2020|강원|강릉시|         강릉동인병원|  226-82-01835|        의료기관|\n",
      "|2020|강원|강릉시|         강릉동인병원|  226-82-01835|        장례식장|\n",
      "|2020|강원|강릉시|강릉동인병원 장례식장|  226-90-93776|        장례식장|\n",
      "|2020|강원|강릉시|   강릉빛나라어린이집|  226-82-12841|        어린이집|\n",
      "|2020|강원|강릉시|     강릉삼성어린이집|  226-80-04288|        어린이집|\n",
      "+----+----+------+---------------------+--------------+----------------+\n",
      "only showing top 10 rows\n",
      "\n",
      "+----+------+-------+\n",
      "| loc|v_rate|qurRate|\n",
      "+----+------+-------+\n",
      "|강원|    18|  45979|\n",
      "|경기|    13|  47883|\n",
      "|경남|    15|  44098|\n",
      "|경북|    15|  41475|\n",
      "|광주|    16|  49604|\n",
      "+----+------+-------+\n",
      "only showing top 5 rows\n",
      "\n"
     ]
    }
   ],
   "source": [
    "fac = spark.read.csv('/corona_data/loc/전국다중이용시설.csv', encoding='CP949', header=True)\n",
    "fac.show(10)\n"
   ]
  },
  {
   "cell_type": "code",
   "execution_count": 34,
   "metadata": {},
   "outputs": [
    {
     "name": "stdout",
     "output_type": "stream",
     "text": [
      "+----+-------+\n",
      "| loc|fac_cnt|\n",
      "+----+-------+\n",
      "|경북|    944|\n",
      "|대전|    767|\n",
      "|전북|    759|\n",
      "|충북|    617|\n",
      "|울산|    431|\n",
      "|경남|   1357|\n",
      "|제주|    310|\n",
      "|충남|    824|\n",
      "|전남|    825|\n",
      "|인천|   1386|\n",
      "|부산|   1462|\n",
      "|대구|   1015|\n",
      "|경기|   6303|\n",
      "|서울|   5224|\n",
      "|광주|    732|\n",
      "|세종|    243|\n",
      "|강원|    584|\n",
      "+----+-------+\n",
      "\n",
      "+----+--------+--------+--------+-------+\n",
      "| loc|   total|    male|  female|fac_cnt|\n",
      "+----+--------+--------+--------+-------+\n",
      "|경북|2677709 |1355128 |1322581 |    944|\n",
      "|대전|1469543 | 732593 | 736950 |    767|\n",
      "|전북|1817186 | 905672 | 911514 |    759|\n",
      "|충북|1633472 | 832743 | 800729 |    617|\n",
      "|울산|1138419 | 586031 | 552388 |    431|\n",
      "+----+--------+--------+--------+-------+\n",
      "only showing top 5 rows\n",
      "\n",
      "+----+--------+\n",
      "| loc|fac_popu|\n",
      "+----+--------+\n",
      "|경북|      36|\n",
      "|대전|      53|\n",
      "|전북|      42|\n",
      "|충북|      38|\n",
      "|울산|      38|\n",
      "|경남|      41|\n",
      "|제주|      45|\n",
      "|충남|      38|\n",
      "|전남|      45|\n",
      "|인천|      46|\n",
      "|부산|      44|\n",
      "|대구|      43|\n",
      "|경기|      46|\n",
      "|서울|      54|\n",
      "|광주|      51|\n",
      "|세종|      65|\n",
      "|강원|      38|\n",
      "+----+--------+\n",
      "\n",
      "+----+--------+-------+\n",
      "| loc|fac_popu|qurRate|\n",
      "+----+--------+-------+\n",
      "|강원|      38|  45979|\n",
      "|경기|      46|  47883|\n",
      "|경남|      41|  44098|\n",
      "|경북|      36|  41475|\n",
      "|광주|      51|  49604|\n",
      "|대구|      43|  43971|\n",
      "|대전|      53|  48307|\n",
      "|부산|      44|  43180|\n",
      "|서울|      54|  49673|\n",
      "|세종|      65|  50913|\n",
      "|울산|      38|  46618|\n",
      "|인천|      46|  47227|\n",
      "|전남|      45|  43984|\n",
      "|전북|      42|  45901|\n",
      "|제주|      45|  48672|\n",
      "|충남|      38|  45963|\n",
      "|충북|      38|  47313|\n",
      "+----+--------+-------+\n",
      "\n"
     ]
    }
   ],
   "source": [
    "fac_cnt = fac.groupBy(fac.광역.alias('loc')).agg(count('*').alias('fac_cnt'))\n",
    "fac_cnt.show()\n",
    "\n",
    "tmp = popu.join(fac_cnt, on='loc')\n",
    "tmp.show(5)\n",
    "\n",
    "fac_popu = tmp.select('loc', ceil(tmp.fac_cnt/tmp.total*100000).alias('fac_popu'))\n",
    "fac_popu.show()\n",
    "\n",
    "tmp3 = co_patient.select(co_patient.gubun.alias('loc'), co_patient.qurRate)\n",
    "fac_rate = fac_popu.join(tmp3, on='loc').distinct()\n",
    "fac_rate.show()"
   ]
  },
  {
   "cell_type": "code",
   "execution_count": 31,
   "metadata": {
    "scrolled": true
   },
   "outputs": [
    {
     "data": {
      "text/plain": [
       "<AxesSubplot:xlabel='fac_popu', ylabel='qurRate'>"
      ]
     },
     "execution_count": 31,
     "metadata": {},
     "output_type": "execute_result"
    },
    {
     "name": "stderr",
     "output_type": "stream",
     "text": [
      "findfont: Font family ['NanumGothic'] not found. Falling back to DejaVu Sans.\n"
     ]
    },
    {
     "data": {
      "image/png": "[encoded data removed]",
      "text/plain": [
       "<Figure size 600x600 with 1 Axes>"
      ]
     },
     "metadata": {},
     "output_type": "display_data"
    }
   ],
   "source": [
    "pd_fac = fac_rate.toPandas()\n",
    "\n",
    "pd_fac['qurRate'] = pd_fac['qurRate'].astype(int)\n",
    "pd_fac.plot(kind='scatter'\n",
    "           ,x='fac_popu'\n",
    "           ,y='qurRate'\n",
    "           ,ylim=(40000,55000)\n",
    "           ,figsize=(6, 6) \n",
    "          )\n"
   ]
  },
  {
   "cell_type": "markdown",
   "metadata": {},
   "source": [
    "### 4. 요일별 코로나 확진자 수를 구해보자"
   ]
  },
  {
   "cell_type": "code",
   "execution_count": 35,
   "metadata": {
    "scrolled": true
   },
   "outputs": [
    {
     "name": "stderr",
     "output_type": "stream",
     "text": [
      "\r",
      "[Stage 117:===============================================>       (37 + 2) / 43]\r",
      "\r",
      "                                                                                \r"
     ]
    }
   ],
   "source": [
    "file_name = '/corona_data/patient/'\n",
    "tmp = spark.read.json(file_name, encoding='UTF-8')\n"
   ]
  },
  {
   "cell_type": "code",
   "execution_count": 39,
   "metadata": {
    "scrolled": true
   },
   "outputs": [
    {
     "name": "stdout",
     "output_type": "stream",
     "text": [
      "+----------------------+\n",
      "|                 items|\n",
      "+----------------------+\n",
      "|[{16, 12659, 검역, ...|\n",
      "|  [{1465, 1461477, ...|\n",
      "| [{1043, 868166, 충...|\n",
      "|  [{1429, 1214957, ...|\n",
      "|[{528, 687990, 전남...|\n",
      "|  [{26161, 22449475...|\n",
      "|  [{25441, 20983169...|\n",
      "| [{1376, 847452, 대...|\n",
      "|[{520, 666170, 전남...|\n",
      "|  [{5077, 4264423, ...|\n",
      "+----------------------+\n",
      "only showing top 10 rows\n",
      "\n"
     ]
    }
   ],
   "source": [
    "# tmp.show()\n",
    "tmp.select(tmp.items).show(10)\n"
   ]
  },
  {
   "cell_type": "code",
   "execution_count": 56,
   "metadata": {
    "scrolled": true
   },
   "outputs": [
    {
     "name": "stdout",
     "output_type": "stream",
     "text": [
      "+--------+-------+-----+-------+------------+------+------------+----------+-----------+-----------+-------+----------+\n",
      "|deathCnt| defCnt|gubun|gubunCn|     gubunEn|incDec|isolClearCnt|isolIngCnt|localOccCnt|overFlowCnt|qurRate|    stdDay|\n",
      "+--------+-------+-----+-------+------------+------+------------+----------+-----------+-----------+-------+----------+\n",
      "|      16|  12659| 검역| 隔離區|   Lazaretto|    17|           0|         0|          0|         17|      -|2022-08-25|\n",
      "|      16|  12659| 검역| 隔離區|   Lazaretto|    17|           0|         0|          0|         17|      -|2022-08-25|\n",
      "|    6715|6109867| 경기|   京畿| Gyeonggi-do| 27032|           0|         0|      27007|         25|  45040|2022-08-25|\n",
      "|    5165|4475520| 서울|   首尔|       Seoul| 17722|           0|         0|      17707|         15|  47064|2022-08-25|\n",
      "|     927| 763330| 전북|   全北|Jeollabuk-do|  4533|           0|         0|       4482|         51|  42719|2022-08-25|\n",
      "+--------+-------+-----+-------+------------+------+------------+----------+-----------+-----------+-------+----------+\n",
      "only showing top 5 rows\n",
      "\n",
      "+-----------+---------+\n",
      "|day_of_week| patients|\n",
      "+-----------+---------+\n",
      "|          1|1951040.0|\n",
      "|          2| 863372.0|\n",
      "|          3|3063232.0|\n",
      "|          4|3141664.0|\n",
      "|          5|3559088.0|\n",
      "|          6|1889260.0|\n",
      "|          7|2647380.0|\n",
      "+-----------+---------+\n",
      "\n"
     ]
    }
   ],
   "source": [
    "data = []\n",
    "for r1 in tmp.select(tmp.items).toLocalIterator():\n",
    "    if not r1.items:\n",
    "        continue\n",
    "    for r2 in r1.items:\n",
    "        data.append(r2)\n",
    "        \n",
    "patient_data = spark.createDataFrame(data)\n",
    "patient_data.show(5)\n",
    "p = patient_data.withColumn('day_of_week', dayofweek(col('stdDay')))\n",
    "\n",
    "# localOccCnt : 당일 발생한 코로나 확진자 수 - 해외유입 수\n",
    "p_data = p.groupBy(p.day_of_week).agg(sum(col('localOccCnt')).alias('patients')).orderBy(col('day_of_week'))\n",
    "p_data.show()"
   ]
  },
  {
   "cell_type": "code",
   "execution_count": 58,
   "metadata": {},
   "outputs": [
    {
     "data": {
      "text/plain": [
       "<AxesSubplot:>"
      ]
     },
     "execution_count": 58,
     "metadata": {},
     "output_type": "execute_result"
    },
    {
     "data": {
      "image/png": "[encoded data removed]",
      "text/plain": [
       "<Figure size 600x600 with 1 Axes>"
      ]
     },
     "metadata": {},
     "output_type": "display_data"
    }
   ],
   "source": [
    "pd_week = p_data.toPandas()\n",
    "pd_week.plot(kind='bar', figsize=(6, 6))"
   ]
  },
  {
   "cell_type": "code",
   "execution_count": null,
   "metadata": {},
   "outputs": [],
   "source": []
  },
  {
   "cell_type": "code",
   "execution_count": null,
   "metadata": {},
   "outputs": [],
   "source": []
  }
 ],
 "metadata": {
  "kernelspec": {
   "display_name": "Python 3 (ipykernel)",
   "language": "python",
   "name": "python3"
  },
  "language_info": {
   "codemirror_mode": {
    "name": "ipython",
    "version": 3
   },
   "file_extension": ".py",
   "mimetype": "text/x-python",
   "name": "python",
   "nbconvert_exporter": "python",
   "pygments_lexer": "ipython3",
   "version": "3.8.10"
  }
 },
 "nbformat": 4,
 "nbformat_minor": 5
}
