{
 "cells": [
  {
   "cell_type": "markdown",
   "metadata": {},
   "source": [
    "## groupBy()"
   ]
  },
  {
   "cell_type": "code",
   "execution_count": 15,
   "metadata": {},
   "outputs": [],
   "source": [
    "from IPython.core.interactiveshell import InteractiveShell\n",
    "InteractiveShell.ast_node_interactivity = \"all\""
   ]
  },
  {
   "cell_type": "code",
   "execution_count": 16,
   "metadata": {},
   "outputs": [],
   "source": [
    "from datetime import date, datetime\n",
    "from pyspark.sql import *\n",
    "from pyspark.sql.types import *\n",
    "from pyspark.sql.functions import *\n",
    "from pyspark.sql import functions as F"
   ]
  },
  {
   "cell_type": "code",
   "execution_count": 19,
   "metadata": {},
   "outputs": [
    {
     "name": "stdout",
     "output_type": "stream",
     "text": [
      "root\n",
      " |-- class_cd: string (nullable = true)\n",
      " |-- school: string (nullable = true)\n",
      " |-- class_std_cnt: integer (nullable = true)\n",
      " |-- loc: string (nullable = true)\n",
      " |-- school_type: string (nullable = true)\n",
      " |-- teaching_type: string (nullable = true)\n",
      "\n"
     ]
    }
   ],
   "source": [
    "schema = StructType([\n",
    "    StructField('class_cd', StringType()),\n",
    "    StructField('school', StringType()),\n",
    "    StructField('class_std_cnt', IntegerType()),\n",
    "    StructField('loc', StringType()),\n",
    "    StructField('school_type', StringType()),\n",
    "    StructField('teaching_type', StringType()),\n",
    "])\n",
    "\n",
    "cdf = spark.read.csv('/dataframe/a_class_info.csv', header=True, schema=schema)\n",
    "cdf.printSchema()\n",
    "cdf.createOrReplaceTempView('class')"
   ]
  },
  {
   "cell_type": "markdown",
   "metadata": {},
   "source": [
    "groupBy  : 집계함수를 가지고 있는 GroupData 객체를 반환한다.  \n",
    "\n",
    "GrouopData객체의 집계함수들을 사용해 grouping 된 데이터들의 집계결과를 저장하고 있는 DataFrame을 반환 받을 수 있다."
   ]
  },
  {
   "cell_type": "code",
   "execution_count": 4,
   "metadata": {
    "scrolled": true
   },
   "outputs": [
    {
     "name": "stderr",
     "output_type": "stream",
     "text": [
      "                                                                                \r"
     ]
    },
    {
     "name": "stdout",
     "output_type": "stream",
     "text": [
      "+--------+------+-------------+--------+-----------+-------------+\n",
      "|class_cd|school|class_std_cnt|     loc|school_type|teaching_type|\n",
      "+--------+------+-------------+--------+-----------+-------------+\n",
      "|     6OL| ANKYI|           20|   Urban| Non-public|     Standard|\n",
      "|     ZNS| ANKYI|           21|   Urban| Non-public|     Standard|\n",
      "|     2B1| CCAAW|           18|Suburban| Non-public| Experimental|\n",
      "|     EPS| CCAAW|           20|Suburban| Non-public| Experimental|\n",
      "|     IQN| CCAAW|           15|Suburban| Non-public| Experimental|\n",
      "|     PGK| CCAAW|           21|Suburban| Non-public|     Standard|\n",
      "|     UHU| CCAAW|           16|Suburban| Non-public| Experimental|\n",
      "|     UWK| CCAAW|           19|Suburban| Non-public|     Standard|\n",
      "|     A33| CIMBB|           19|   Urban| Non-public|     Standard|\n",
      "|     EID| CIMBB|           21|   Urban| Non-public|     Standard|\n",
      "|     HUJ| CIMBB|           17|   Urban| Non-public| Experimental|\n",
      "|     PC6| CIMBB|           17|   Urban| Non-public|     Standard|\n",
      "|     1Q1| CUQAM|           28|   Urban|     Public|     Standard|\n",
      "|     BFY| CUQAM|           27|   Urban|     Public|     Standard|\n",
      "|     OMI| CUQAM|           28|   Urban|     Public|     Standard|\n",
      "|     X6Z| CUQAM|           24|   Urban|     Public| Experimental|\n",
      "|     2AP| DNQDD|           27|Suburban|     Public|     Standard|\n",
      "|     PW5| DNQDD|           20|Suburban|     Public| Experimental|\n",
      "|     ROP| DNQDD|           28|Suburban|     Public| Experimental|\n",
      "|     ST7| DNQDD|           20|Suburban|     Public|     Standard|\n",
      "+--------+------+-------------+--------+-----------+-------------+\n",
      "only showing top 20 rows\n",
      "\n"
     ]
    }
   ],
   "source": []
  },
  {
   "cell_type": "code",
   "execution_count": 8,
   "metadata": {
    "scrolled": false
   },
   "outputs": [
    {
     "name": "stderr",
     "output_type": "stream",
     "text": [
      "                                                                                \r"
     ]
    },
    {
     "name": "stdout",
     "output_type": "stream",
     "text": [
      "+--------+-------------+------------------+\n",
      "|     loc|teaching_type|sum(class_std_cnt)|\n",
      "+--------+-------------+------------------+\n",
      "|   Rural| Experimental|               211|\n",
      "|    null|         null|              null|\n",
      "|   Urban|     Standard|               631|\n",
      "|Suburban|     Standard|               433|\n",
      "|   Rural|     Standard|               327|\n",
      "|Suburban| Experimental|               284|\n",
      "|   Urban| Experimental|               275|\n",
      "+--------+-------------+------------------+\n",
      "\n",
      "지역별 class 숫자를 계산해보자. 단 지역정보가 없는 데이터는 제외한다.\n"
     ]
    },
    {
     "name": "stderr",
     "output_type": "stream",
     "text": [
      "                                                                                \r"
     ]
    },
    {
     "name": "stdout",
     "output_type": "stream",
     "text": [
      "+--------+-----+\n",
      "|     loc|count|\n",
      "+--------+-----+\n",
      "|   Urban|   37|\n",
      "|Suburban|   34|\n",
      "|   Rural|   28|\n",
      "+--------+-----+\n",
      "\n",
      "지역별 교육타입별 학생 숫자와 평균을 구해보자. 단 학생 숫자가 300미만인 데이터는 제외한다.\n"
     ]
    },
    {
     "name": "stderr",
     "output_type": "stream",
     "text": [
      "                                                                                \r"
     ]
    },
    {
     "name": "stdout",
     "output_type": "stream",
     "text": [
      "+--------+-------------+------------------+------------------+\n",
      "|     loc|teaching_type|sum(class_std_cnt)|avg(class_std_cnt)|\n",
      "+--------+-------------+------------------+------------------+\n",
      "|   Urban|     Standard|               631| 24.26923076923077|\n",
      "|Suburban|     Standard|               433|             21.65|\n",
      "|   Rural|     Standard|               327|           20.4375|\n",
      "+--------+-------------+------------------+------------------+\n",
      "\n",
      "컬럼명이 sum(class_std_cnt) 이라니 너무 이상하다. 집계함수를 수행하고 별칭을 붙여보자\n"
     ]
    },
    {
     "name": "stderr",
     "output_type": "stream",
     "text": [
      "                                                                                \r"
     ]
    },
    {
     "name": "stdout",
     "output_type": "stream",
     "text": [
      "+--------+-------------+-----+-----------------+\n",
      "|     loc|teaching_type|total|              avg|\n",
      "+--------+-------------+-----+-----------------+\n",
      "|   Urban|     Standard|  631|24.26923076923077|\n",
      "|Suburban|     Standard|  433|            21.65|\n",
      "|   Rural|     Standard|  327|          20.4375|\n",
      "+--------+-------------+-----+-----------------+\n",
      "\n"
     ]
    },
    {
     "name": "stderr",
     "output_type": "stream",
     "text": [
      "\r\n",
      "[Stage 55:>                                                         (0 + 1) / 1]\r"
     ]
    },
    {
     "name": "stdout",
     "output_type": "stream",
     "text": [
      "+--------+-------------+-----+-----------------+---+---+------------------+\n",
      "|     loc|teaching_type|total|              avg|max|min|            stddev|\n",
      "+--------+-------------+-----+-----------------+---+---+------------------+\n",
      "|   Urban|     Standard|  631|24.26923076923077| 31| 17| 4.229020617662603|\n",
      "|Suburban|     Standard|  433|            21.65| 27| 15|3.1668513334889994|\n",
      "|   Rural|     Standard|  327|          20.4375| 24| 16|2.1899391163530857|\n",
      "+--------+-------------+-----+-----------------+---+---+------------------+\n",
      "\n"
     ]
    },
    {
     "name": "stderr",
     "output_type": "stream",
     "text": [
      "\r\n",
      "                                                                                \r"
     ]
    }
   ],
   "source": []
  },
  {
   "cell_type": "code",
   "execution_count": null,
   "metadata": {},
   "outputs": [],
   "source": [
    "# 학교가 가장 많이 위치한 지역의 학생 수 총합과, 가장 적게 위치한 지역의 학생 수 총 합 간의 차이를 구해보자\n",
    "\n",
    "\n"
   ]
  },
  {
   "cell_type": "markdown",
   "metadata": {},
   "source": [
    "#### sql"
   ]
  },
  {
   "cell_type": "code",
   "execution_count": null,
   "metadata": {},
   "outputs": [],
   "source": []
  },
  {
   "cell_type": "markdown",
   "metadata": {},
   "source": [
    "## orderBy()"
   ]
  },
  {
   "cell_type": "code",
   "execution_count": 43,
   "metadata": {},
   "outputs": [
    {
     "name": "stdout",
     "output_type": "stream",
     "text": [
      "반 학생 숫자를 기준으로 내림차순 정렬하라\n",
      "+--------+------+-------------+-----+-----------+-------------+\n",
      "|class_cd|school|class_std_cnt|  loc|school_type|teaching_type|\n",
      "+--------+------+-------------+-----+-----------+-------------+\n",
      "|     18K| GOOBU|           31|Urban|     Public|     Standard|\n",
      "|     A93| VVTVA|           30|Urban|     Public| Experimental|\n",
      "|     Q0E| ZOWMK|           30|Urban|     Public| Experimental|\n",
      "|     YTB| VVTVA|           30|Urban|     Public| Experimental|\n",
      "|     QA2| ZOWMK|           30|Urban|     Public|     Standard|\n",
      "+--------+------+-------------+-----+-----------+-------------+\n",
      "only showing top 5 rows\n",
      "\n",
      "+--------+------+-------------+-----+-----------+-------------+\n",
      "|class_cd|school|class_std_cnt|  loc|school_type|teaching_type|\n",
      "+--------+------+-------------+-----+-----------+-------------+\n",
      "|     18K| GOOBU|           31|Urban|     Public|     Standard|\n",
      "|     A93| VVTVA|           30|Urban|     Public| Experimental|\n",
      "|     Q0E| ZOWMK|           30|Urban|     Public| Experimental|\n",
      "|     YTB| VVTVA|           30|Urban|     Public| Experimental|\n",
      "|     QA2| ZOWMK|           30|Urban|     Public|     Standard|\n",
      "+--------+------+-------------+-----+-----------+-------------+\n",
      "only showing top 5 rows\n",
      "\n",
      "+--------+------+-------------+-----+-----------+-------------+\n",
      "|class_cd|school|class_std_cnt|  loc|school_type|teaching_type|\n",
      "+--------+------+-------------+-----+-----------+-------------+\n",
      "|     18K| GOOBU|           31|Urban|     Public|     Standard|\n",
      "|     A93| VVTVA|           30|Urban|     Public| Experimental|\n",
      "|     Q0E| ZOWMK|           30|Urban|     Public| Experimental|\n",
      "|     YTB| VVTVA|           30|Urban|     Public| Experimental|\n",
      "|     QA2| ZOWMK|           30|Urban|     Public|     Standard|\n",
      "+--------+------+-------------+-----+-----------+-------------+\n",
      "only showing top 5 rows\n",
      "\n",
      "loc를 기준으로 오름차순 정렬하라, 이때 같은 지역끼리는 학교이름을 기준으로 내림차순 정렬하라\n",
      "+--------+------+-------------+--------+-----------+-------------+\n",
      "|class_cd|school|class_std_cnt|     loc|school_type|teaching_type|\n",
      "+--------+------+-------------+--------+-----------+-------------+\n",
      "|     4SZ|  null|         null|    null|       null|         null|\n",
      "|     6PP|  null|         null|    null|       null|         null|\n",
      "|     5SD|  null|         null|    null|       null|         null|\n",
      "|     DFQ| VKWQH|           19|   Rural|     Public| Experimental|\n",
      "|     GYM| VKWQH|           20|   Rural|     Public|     Standard|\n",
      "|     D33| VKWQH|           21|   Rural|     Public|     Standard|\n",
      "|     IEM| VKWQH|           22|   Rural|     Public| Experimental|\n",
      "|     341| VKWQH|           18|   Rural|     Public|     Standard|\n",
      "|     J6X| VHDHF|           16|   Rural| Non-public|     Standard|\n",
      "|     KR1| VHDHF|           15|   Rural| Non-public| Experimental|\n",
      "|     CD8| VHDHF|           20|   Rural| Non-public| Experimental|\n",
      "|     FS3| OJOBU|           19|   Rural|     Public|     Standard|\n",
      "|     XJ8| OJOBU|           23|   Rural|     Public|     Standard|\n",
      "|     5SZ| OJOBU|           17|   Rural|     Public| Experimental|\n",
      "|     6U9| OJOBU|           22|   Rural|     Public|     Standard|\n",
      "|     J8J| LAYPA|           19|   Rural|     Public|     Standard|\n",
      "|     RA5| LAYPA|           17|   Rural|     Public| Experimental|\n",
      "|     AJ1| LAYPA|           21|   Rural|     Public|     Standard|\n",
      "|     5JK| KZKKE|           24|   Rural|     Public|     Standard|\n",
      "|     2BR| KZKKE|           20|   Rural|     Public|     Standard|\n",
      "|     3D0| KZKKE|           22|   Rural|     Public|     Standard|\n",
      "|     O6A| KZKKE|           22|   Rural|     Public|     Standard|\n",
      "|     QTU| KZKKE|           23|   Rural|     Public|     Standard|\n",
      "|     VA6| GOKXL|           19|   Rural|     Public|     Standard|\n",
      "|     ENO| GOKXL|           22|   Rural|     Public| Experimental|\n",
      "|     TSA| GOKXL|           23|   Rural|     Public| Experimental|\n",
      "|     197| FBUMG|           14|   Rural| Non-public| Experimental|\n",
      "|     5LQ| FBUMG|           18|   Rural| Non-public| Experimental|\n",
      "|     JGD| FBUMG|           14|   Rural| Non-public| Experimental|\n",
      "|     MDS|  null|           18|   Rural| Non-public|     Standard|\n",
      "|     MDE|  null|           10|   Rural| Non-public| Experimental|\n",
      "|     4NN| ZMNYA|           22|Suburban|     Public|     Standard|\n",
      "|     1UU| ZMNYA|           24|Suburban|     Public| Experimental|\n",
      "|     V77| ZMNYA|           23|Suburban|     Public| Experimental|\n",
      "|     H7S| UUUQX|           16|Suburban| Non-public| Experimental|\n",
      "|     P8I| UUUQX|           20|Suburban| Non-public|     Standard|\n",
      "|     SSP| UUUQX|           15|Suburban| Non-public|     Standard|\n",
      "|     6C1| UUUQX|           16|Suburban| Non-public|     Standard|\n",
      "|     AE1| UUUQX|           17|Suburban| Non-public| Experimental|\n",
      "|     PGH| UKPGS|           23|Suburban|     Public| Experimental|\n",
      "|     IPU| UKPGS|           19|Suburban|     Public| Experimental|\n",
      "|     08N| UKPGS|           21|Suburban|     Public|     Standard|\n",
      "|     XXE| UKPGS|           22|Suburban|     Public|     Standard|\n",
      "|     9AW| UKPGS|           25|Suburban|     Public|     Standard|\n",
      "|     KXB| UKPGS|           18|Suburban|     Public| Experimental|\n",
      "|     NWZ| UAGPU|           21|Suburban|     Public|     Standard|\n",
      "|     62L| UAGPU|           23|Suburban|     Public|     Standard|\n",
      "|     S98| UAGPU|           21|Suburban|     Public|     Standard|\n",
      "|     1SZ| UAGPU|           22|Suburban|     Public|     Standard|\n",
      "|     X78| GJJHK|           21|Suburban|     Public|     Standard|\n",
      "+--------+------+-------------+--------+-----------+-------------+\n",
      "only showing top 50 rows\n",
      "\n",
      "+--------+------+-------------+--------+-----------+-------------+\n",
      "|class_cd|school|class_std_cnt|     loc|school_type|teaching_type|\n",
      "+--------+------+-------------+--------+-----------+-------------+\n",
      "|     4SZ|  null|         null|    null|       null|         null|\n",
      "|     6PP|  null|         null|    null|       null|         null|\n",
      "|     5SD|  null|         null|    null|       null|         null|\n",
      "|     DFQ| VKWQH|           19|   Rural|     Public| Experimental|\n",
      "|     GYM| VKWQH|           20|   Rural|     Public|     Standard|\n",
      "|     D33| VKWQH|           21|   Rural|     Public|     Standard|\n",
      "|     IEM| VKWQH|           22|   Rural|     Public| Experimental|\n",
      "|     341| VKWQH|           18|   Rural|     Public|     Standard|\n",
      "|     J6X| VHDHF|           16|   Rural| Non-public|     Standard|\n",
      "|     KR1| VHDHF|           15|   Rural| Non-public| Experimental|\n",
      "|     CD8| VHDHF|           20|   Rural| Non-public| Experimental|\n",
      "|     FS3| OJOBU|           19|   Rural|     Public|     Standard|\n",
      "|     XJ8| OJOBU|           23|   Rural|     Public|     Standard|\n",
      "|     5SZ| OJOBU|           17|   Rural|     Public| Experimental|\n",
      "|     6U9| OJOBU|           22|   Rural|     Public|     Standard|\n",
      "|     J8J| LAYPA|           19|   Rural|     Public|     Standard|\n",
      "|     RA5| LAYPA|           17|   Rural|     Public| Experimental|\n",
      "|     AJ1| LAYPA|           21|   Rural|     Public|     Standard|\n",
      "|     5JK| KZKKE|           24|   Rural|     Public|     Standard|\n",
      "|     2BR| KZKKE|           20|   Rural|     Public|     Standard|\n",
      "|     3D0| KZKKE|           22|   Rural|     Public|     Standard|\n",
      "|     O6A| KZKKE|           22|   Rural|     Public|     Standard|\n",
      "|     QTU| KZKKE|           23|   Rural|     Public|     Standard|\n",
      "|     VA6| GOKXL|           19|   Rural|     Public|     Standard|\n",
      "|     ENO| GOKXL|           22|   Rural|     Public| Experimental|\n",
      "|     TSA| GOKXL|           23|   Rural|     Public| Experimental|\n",
      "|     197| FBUMG|           14|   Rural| Non-public| Experimental|\n",
      "|     5LQ| FBUMG|           18|   Rural| Non-public| Experimental|\n",
      "|     JGD| FBUMG|           14|   Rural| Non-public| Experimental|\n",
      "|     MDS|  null|           18|   Rural| Non-public|     Standard|\n",
      "|     MDE|  null|           10|   Rural| Non-public| Experimental|\n",
      "|     4NN| ZMNYA|           22|Suburban|     Public|     Standard|\n",
      "|     1UU| ZMNYA|           24|Suburban|     Public| Experimental|\n",
      "|     V77| ZMNYA|           23|Suburban|     Public| Experimental|\n",
      "|     H7S| UUUQX|           16|Suburban| Non-public| Experimental|\n",
      "|     P8I| UUUQX|           20|Suburban| Non-public|     Standard|\n",
      "|     SSP| UUUQX|           15|Suburban| Non-public|     Standard|\n",
      "|     6C1| UUUQX|           16|Suburban| Non-public|     Standard|\n",
      "|     AE1| UUUQX|           17|Suburban| Non-public| Experimental|\n",
      "|     PGH| UKPGS|           23|Suburban|     Public| Experimental|\n",
      "|     IPU| UKPGS|           19|Suburban|     Public| Experimental|\n",
      "|     08N| UKPGS|           21|Suburban|     Public|     Standard|\n",
      "|     XXE| UKPGS|           22|Suburban|     Public|     Standard|\n",
      "|     9AW| UKPGS|           25|Suburban|     Public|     Standard|\n",
      "|     KXB| UKPGS|           18|Suburban|     Public| Experimental|\n",
      "|     NWZ| UAGPU|           21|Suburban|     Public|     Standard|\n",
      "|     62L| UAGPU|           23|Suburban|     Public|     Standard|\n",
      "|     S98| UAGPU|           21|Suburban|     Public|     Standard|\n",
      "|     1SZ| UAGPU|           22|Suburban|     Public|     Standard|\n",
      "|     X78| GJJHK|           21|Suburban|     Public|     Standard|\n",
      "+--------+------+-------------+--------+-----------+-------------+\n",
      "only showing top 50 rows\n",
      "\n"
     ]
    },
    {
     "name": "stdout",
     "output_type": "stream",
     "text": [
      "+--------+------+-------------+--------+-----------+-------------+\n",
      "|class_cd|school|class_std_cnt|     loc|school_type|teaching_type|\n",
      "+--------+------+-------------+--------+-----------+-------------+\n",
      "|     ZNS| ANKYI|           21|   Urban| Non-public|     Standard|\n",
      "|     6OL| ANKYI|           20|   Urban| Non-public|     Standard|\n",
      "|     A33| CIMBB|           19|   Urban| Non-public|     Standard|\n",
      "|     PC6| CIMBB|           17|   Urban| Non-public|     Standard|\n",
      "|     EID| CIMBB|           21|   Urban| Non-public|     Standard|\n",
      "|     HUJ| CIMBB|           17|   Urban| Non-public| Experimental|\n",
      "|     1Q1| CUQAM|           28|   Urban|     Public|     Standard|\n",
      "|     OMI| CUQAM|           28|   Urban|     Public|     Standard|\n",
      "|     BFY| CUQAM|           27|   Urban|     Public|     Standard|\n",
      "|     X6Z| CUQAM|           24|   Urban|     Public| Experimental|\n",
      "|     PBA| GOOBU|           24|   Urban|     Public|     Standard|\n",
      "|     U6J| GOOBU|           25|   Urban|     Public|     Standard|\n",
      "|     18K| GOOBU|           31|   Urban|     Public|     Standard|\n",
      "|     W8A| GOOBU|           26|   Urban|     Public| Experimental|\n",
      "|     CXC| GOOBU|           24|   Urban|     Public|     Standard|\n",
      "|     HKF| GOOBU|           28|   Urban|     Public|     Standard|\n",
      "|     G2L| IDGFP|           17|   Urban| Non-public|     Standard|\n",
      "|     05H| IDGFP|           22|   Urban| Non-public|     Standard|\n",
      "|     XZM| IDGFP|           17|   Urban| Non-public|     Standard|\n",
      "|     98D| IDGFP|           21|   Urban| Non-public| Experimental|\n",
      "|     P2A| IDGFP|           17|   Urban| Non-public| Experimental|\n",
      "|     1VD| KFZMY|           27|   Urban| Non-public| Experimental|\n",
      "|     21Q| KFZMY|           25|   Urban| Non-public|     Standard|\n",
      "|     0N7| QOQTS|           28|   Urban|     Public| Experimental|\n",
      "|     SUR| QOQTS|           28|   Urban|     Public|     Standard|\n",
      "|     XZ4| QOQTS|           22|   Urban|     Public|     Standard|\n",
      "|     3XJ| QOQTS|           24|   Urban|     Public|     Standard|\n",
      "|     RK7| QOQTS|           22|   Urban|     Public|     Standard|\n",
      "|     X2O| QOQTS|           25|   Urban|     Public| Experimental|\n",
      "|     TB5| VVTVA|           25|   Urban|     Public|     Standard|\n",
      "|     YTB| VVTVA|           30|   Urban|     Public| Experimental|\n",
      "|     7BL| VVTVA|           29|   Urban|     Public|     Standard|\n",
      "|     A93| VVTVA|           30|   Urban|     Public| Experimental|\n",
      "|     CII| ZOWMK|           27|   Urban|     Public|     Standard|\n",
      "|     Q0E| ZOWMK|           30|   Urban|     Public| Experimental|\n",
      "|     QA2| ZOWMK|           30|   Urban|     Public|     Standard|\n",
      "|     ZBH| ZOWMK|           30|   Urban|     Public|     Standard|\n",
      "|     PGK| CCAAW|           21|Suburban| Non-public|     Standard|\n",
      "|     UHU| CCAAW|           16|Suburban| Non-public| Experimental|\n",
      "|     IQN| CCAAW|           15|Suburban| Non-public| Experimental|\n",
      "|     2B1| CCAAW|           18|Suburban| Non-public| Experimental|\n",
      "|     UWK| CCAAW|           19|Suburban| Non-public|     Standard|\n",
      "|     EPS| CCAAW|           20|Suburban| Non-public| Experimental|\n",
      "|     PW5| DNQDD|           20|Suburban|     Public| Experimental|\n",
      "|     ROP| DNQDD|           28|Suburban|     Public| Experimental|\n",
      "|     ST7| DNQDD|           20|Suburban|     Public|     Standard|\n",
      "|     2AP| DNQDD|           27|Suburban|     Public|     Standard|\n",
      "|     XXJ| DNQDD|           27|Suburban|     Public|     Standard|\n",
      "|     HCB| GJJHK|           22|Suburban|     Public|     Standard|\n",
      "|     NOR| GJJHK|           27|Suburban|     Public| Experimental|\n",
      "+--------+------+-------------+--------+-----------+-------------+\n",
      "only showing top 50 rows\n",
      "\n",
      "학교 종류를 기준으로 오름차순 정렬하라, 만약 school_type이 null인 행이 있다면 제일 위로 오게 하라\n",
      "+--------+------+-------------+--------+-----------+-------------+\n",
      "|class_cd|school|class_std_cnt|     loc|school_type|teaching_type|\n",
      "+--------+------+-------------+--------+-----------+-------------+\n",
      "|     4SZ|  null|         null|    null|       null|         null|\n",
      "|     6PP|  null|         null|    null|       null|         null|\n",
      "|     5SD|  null|         null|    null|       null|         null|\n",
      "|     6OL| ANKYI|           20|   Urban| Non-public|     Standard|\n",
      "|     ZNS| ANKYI|           21|   Urban| Non-public|     Standard|\n",
      "|     2B1| CCAAW|           18|Suburban| Non-public| Experimental|\n",
      "|     IQN| CCAAW|           15|Suburban| Non-public| Experimental|\n",
      "|     UHU| CCAAW|           16|Suburban| Non-public| Experimental|\n",
      "|     A33| CIMBB|           19|   Urban| Non-public|     Standard|\n",
      "|     EPS| CCAAW|           20|Suburban| Non-public| Experimental|\n",
      "|     197| FBUMG|           14|   Rural| Non-public| Experimental|\n",
      "|     PGK| CCAAW|           21|Suburban| Non-public|     Standard|\n",
      "|     98D| IDGFP|           21|   Urban| Non-public| Experimental|\n",
      "|     UWK| CCAAW|           19|Suburban| Non-public|     Standard|\n",
      "|     1VD| KFZMY|           27|   Urban| Non-public| Experimental|\n",
      "|     EID| CIMBB|           21|   Urban| Non-public|     Standard|\n",
      "|     HUJ| CIMBB|           17|   Urban| Non-public| Experimental|\n",
      "|     PC6| CIMBB|           17|   Urban| Non-public|     Standard|\n",
      "|     5LQ| FBUMG|           18|   Rural| Non-public| Experimental|\n",
      "|     JGD| FBUMG|           14|   Rural| Non-public| Experimental|\n",
      "|     05H| IDGFP|           22|   Urban| Non-public|     Standard|\n",
      "|     G2L| IDGFP|           17|   Urban| Non-public|     Standard|\n",
      "|     P2A| IDGFP|           17|   Urban| Non-public| Experimental|\n",
      "|     XZM| IDGFP|           17|   Urban| Non-public|     Standard|\n",
      "|     21Q| KFZMY|           25|   Urban| Non-public|     Standard|\n",
      "|     MDS|  null|           18|   Rural| Non-public|     Standard|\n",
      "|     MDE|  null|           10|   Rural| Non-public| Experimental|\n",
      "|     6C1| UUUQX|           16|Suburban| Non-public|     Standard|\n",
      "|     AE1| UUUQX|           17|Suburban| Non-public| Experimental|\n",
      "|     H7S| UUUQX|           16|Suburban| Non-public| Experimental|\n",
      "+--------+------+-------------+--------+-----------+-------------+\n",
      "only showing top 30 rows\n",
      "\n"
     ]
    }
   ],
   "source": [
    "print('반 학생 숫자를 기준으로 내림차순 정렬하라')\n",
    "# 방법1 (권장)\n",
    "cdf.select('*') \\\n",
    "    .orderBy(cdf.class_std_cnt.desc()).show(5)\n",
    "# 방법 2\n",
    "cdf.select('*') \\\n",
    "    .orderBy(cdf.class_std_cnt, ascending= False).show(5)\n",
    "# 방법 3\n",
    "cdf.select('*') \\\n",
    "    .orderBy(cdf.class_std_cnt, ascending=[0]).show(5)\n",
    "\n",
    "print('loc를 기준으로 오름차순 정렬하라, 이때 같은 지역끼리는 학교이름을 기준으로 내림차순 정렬하라')\n",
    "# 방법 1 (권장)\n",
    "cdf.select('*') \\\n",
    "    .orderBy(cdf.loc.asc(), cdf.school.desc()).show(50)\n",
    "# 방법 2\n",
    "cdf.select('*') \\\n",
    "    .orderBy(cdf.loc.asc(), desc('school')).show(50)\n",
    "# 방법 3\n",
    "cdf.select('*') \\\n",
    "    .orderBy([\"loc\", \"school\"], ascending=[0, 1]).show(50)\n",
    "\n",
    "print('학교 종류를 기준으로 오름차순 정렬하라, 만약 school_type이 null인 행이 있다면 제일 위로 오게 하라')\n",
    "cdf.select('*') \\\n",
    "    .orderBy(cdf.school_type.asc_nulls_first()).show(30)\n",
    "\n",
    "### 앞으로 select('*')을 하려면 생략가능 cdf.select('*').orderBy => cdf.orderBy"
   ]
  },
  {
   "cell_type": "markdown",
   "metadata": {},
   "source": [
    "#### sql"
   ]
  },
  {
   "cell_type": "code",
   "execution_count": 26,
   "metadata": {},
   "outputs": [
    {
     "name": "stdout",
     "output_type": "stream",
     "text": [
      "root\n",
      " |-- class_cd: string (nullable = true)\n",
      " |-- school: string (nullable = true)\n",
      " |-- class_std_cnt: integer (nullable = true)\n",
      " |-- loc: string (nullable = true)\n",
      " |-- school_type: string (nullable = true)\n",
      " |-- teaching_type: string (nullable = true)\n",
      "\n",
      "반 학생 숫자를 기준으로 내림차순 정렬하라\n",
      "+--------+------+-------------+-----+-----------+-------------+\n",
      "|class_cd|school|class_std_cnt|  loc|school_type|teaching_type|\n",
      "+--------+------+-------------+-----+-----------+-------------+\n",
      "|     18K| GOOBU|           31|Urban|     Public|     Standard|\n",
      "|     A93| VVTVA|           30|Urban|     Public| Experimental|\n",
      "|     Q0E| ZOWMK|           30|Urban|     Public| Experimental|\n",
      "|     YTB| VVTVA|           30|Urban|     Public| Experimental|\n",
      "|     QA2| ZOWMK|           30|Urban|     Public|     Standard|\n",
      "+--------+------+-------------+-----+-----------+-------------+\n",
      "only showing top 5 rows\n",
      "\n",
      "loc를 기준으로 오름차순 정렬하라, 이때 같은 지역끼리는 학교이름을 기준으로 내림차순 정렬하라\n",
      "+--------+------+-------------+-----+-----------+-------------+\n",
      "|class_cd|school|class_std_cnt|  loc|school_type|teaching_type|\n",
      "+--------+------+-------------+-----+-----------+-------------+\n",
      "|     5SD|  null|         null| null|       null|         null|\n",
      "|     4SZ|  null|         null| null|       null|         null|\n",
      "|     6PP|  null|         null| null|       null|         null|\n",
      "|     341| VKWQH|           18|Rural|     Public|     Standard|\n",
      "|     D33| VKWQH|           21|Rural|     Public|     Standard|\n",
      "|     GYM| VKWQH|           20|Rural|     Public|     Standard|\n",
      "|     IEM| VKWQH|           22|Rural|     Public| Experimental|\n",
      "|     DFQ| VKWQH|           19|Rural|     Public| Experimental|\n",
      "|     J6X| VHDHF|           16|Rural| Non-public|     Standard|\n",
      "|     KR1| VHDHF|           15|Rural| Non-public| Experimental|\n",
      "+--------+------+-------------+-----+-----------+-------------+\n",
      "only showing top 10 rows\n",
      "\n",
      "학교 종류를 기준으로 오름차순 정렬하라, 만약 school_type이 null인 행이 있다면 제일 위로 오게 하라\n",
      "+--------+------+-------------+--------+-----------+-------------+\n",
      "|class_cd|school|class_std_cnt|     loc|school_type|teaching_type|\n",
      "+--------+------+-------------+--------+-----------+-------------+\n",
      "|     5SD|  null|         null|    null|       null|         null|\n",
      "|     4SZ|  null|         null|    null|       null|         null|\n",
      "|     6PP|  null|         null|    null|       null|         null|\n",
      "|     6OL| ANKYI|           20|   Urban| Non-public|     Standard|\n",
      "|     ZNS| ANKYI|           21|   Urban| Non-public|     Standard|\n",
      "|     2B1| CCAAW|           18|Suburban| Non-public| Experimental|\n",
      "|     IQN| CCAAW|           15|Suburban| Non-public| Experimental|\n",
      "|     UHU| CCAAW|           16|Suburban| Non-public| Experimental|\n",
      "|     EPS| CCAAW|           20|Suburban| Non-public| Experimental|\n",
      "|     PGK| CCAAW|           21|Suburban| Non-public|     Standard|\n",
      "+--------+------+-------------+--------+-----------+-------------+\n",
      "only showing top 10 rows\n",
      "\n",
      "+--------+------+-------------+--------+-----------+-------------+\n",
      "|class_cd|school|class_std_cnt|     loc|school_type|teaching_type|\n",
      "+--------+------+-------------+--------+-----------+-------------+\n",
      "|     6OL| ANKYI|           20|   Urban| Non-public|     Standard|\n",
      "|     ZNS| ANKYI|           21|   Urban| Non-public|     Standard|\n",
      "|     2B1| CCAAW|           18|Suburban| Non-public| Experimental|\n",
      "|     EPS| CCAAW|           20|Suburban| Non-public| Experimental|\n",
      "|     IQN| CCAAW|           15|Suburban| Non-public| Experimental|\n",
      "|     PGK| CCAAW|           21|Suburban| Non-public|     Standard|\n",
      "|     UHU| CCAAW|           16|Suburban| Non-public| Experimental|\n",
      "|     UWK| CCAAW|           19|Suburban| Non-public|     Standard|\n",
      "|     A33| CIMBB|           19|   Urban| Non-public|     Standard|\n",
      "|     EID| CIMBB|           21|   Urban| Non-public|     Standard|\n",
      "+--------+------+-------------+--------+-----------+-------------+\n",
      "only showing top 10 rows\n",
      "\n"
     ]
    }
   ],
   "source": [
    "cdf.printSchema()\n",
    "\n",
    "print('반 학생 숫자를 기준으로 내림차순 정렬하라')\n",
    "spark.sql('''\n",
    "    select * from class order by class_std_cnt desc\n",
    "''').show(5)\n",
    "\n",
    "\n",
    "print('loc를 기준으로 오름차순 정렬하라, 이때 같은 지역끼리는 학교이름을 기준으로 내림차순 정렬하라')\n",
    "spark.sql('''\n",
    "    select * from class order by loc asc, school desc\n",
    "''').show(10)\n",
    "\n",
    "\n",
    "print('학교 종류를 기준으로 오름차순 정렬하라, 만약 school_type이 null인 행이 있다면 제일 위로 오게 하라')\n",
    "spark.sql('''\n",
    "    select * from class order by school_type asc nulls first\n",
    "''').show(10)\n",
    "spark.sql('''\n",
    "    select * from class order by school_type asc nulls last\n",
    "''').show(10)"
   ]
  }
 ],
 "metadata": {
  "kernelspec": {
   "display_name": "Python 3 (ipykernel)",
   "language": "python",
   "name": "python3"
  },
  "language_info": {
   "codemirror_mode": {
    "name": "ipython",
    "version": 3
   },
   "file_extension": ".py",
   "mimetype": "text/x-python",
   "name": "python",
   "nbconvert_exporter": "python",
   "pygments_lexer": "ipython3",
   "version": "3.8.10"
  }
 },
 "nbformat": 4,
 "nbformat_minor": 5
}
