{
 "cells": [
  {
   "cell_type": "code",
   "execution_count": 1,
   "metadata": {},
   "outputs": [],
   "source": [
    "from IPython.core.interactiveshell import InteractiveShell\n",
    "InteractiveShell.ast_node_interactivity = \"all\""
   ]
  },
  {
   "cell_type": "code",
   "execution_count": 2,
   "metadata": {},
   "outputs": [],
   "source": [
    "from datetime import date, datetime\n",
    "from pyspark.sql import *\n",
    "from pyspark.sql.types import *\n",
    "from pyspark.sql.functions import *\n"
   ]
  },
  {
   "cell_type": "markdown",
   "metadata": {},
   "source": [
    "## select()"
   ]
  },
  {
   "cell_type": "code",
   "execution_count": 3,
   "metadata": {},
   "outputs": [
    {
     "name": "stderr",
     "output_type": "stream",
     "text": [
      "[Stage 1:>                                                          (0 + 1) / 1]\r"
     ]
    },
    {
     "name": "stdout",
     "output_type": "stream",
     "text": [
      "+--------+------+-------------+--------+-----------+-------------+\n",
      "|class_cd|school|class_std_cnt|     loc|school_type|teaching_type|\n",
      "+--------+------+-------------+--------+-----------+-------------+\n",
      "|     6OL| ANKYI|           20|   Urban| Non-public|     Standard|\n",
      "|     ZNS| ANKYI|           21|   Urban| Non-public|     Standard|\n",
      "|     2B1| CCAAW|           18|Suburban| Non-public| Experimental|\n",
      "|     EPS| CCAAW|           20|Suburban| Non-public| Experimental|\n",
      "|     IQN| CCAAW|           15|Suburban| Non-public| Experimental|\n",
      "|     PGK| CCAAW|           21|Suburban| Non-public|     Standard|\n",
      "|     UHU| CCAAW|           16|Suburban| Non-public| Experimental|\n",
      "|     UWK| CCAAW|           19|Suburban| Non-public|     Standard|\n",
      "|     A33| CIMBB|           19|   Urban| Non-public|     Standard|\n",
      "|     EID| CIMBB|           21|   Urban| Non-public|     Standard|\n",
      "+--------+------+-------------+--------+-----------+-------------+\n",
      "only showing top 10 rows\n",
      "\n"
     ]
    },
    {
     "name": "stderr",
     "output_type": "stream",
     "text": [
      "\r",
      "                                                                                \r"
     ]
    }
   ],
   "source": [
    "# DataFrame.select(*cols)[source]\n",
    "# Parameters\n",
    "# cols : str, Column, or list\n",
    "# column names (string) or expressions (Column). \n",
    "#If one of the column names is ‘*’, that column is expanded to include all columns in the current DataFrame.\n",
    "\n",
    "class_df = spark.read.csv('/dataframe/a_class_info.csv', header=True)\n",
    "class_df.show(10)"
   ]
  },
  {
   "cell_type": "code",
   "execution_count": 4,
   "metadata": {
    "scrolled": true
   },
   "outputs": [
    {
     "name": "stdout",
     "output_type": "stream",
     "text": [
      "+------+--------+-----------+\n",
      "|school|     loc|school_type|\n",
      "+------+--------+-----------+\n",
      "| ANKYI|   Urban| Non-public|\n",
      "| ANKYI|   Urban| Non-public|\n",
      "| CCAAW|Suburban| Non-public|\n",
      "+------+--------+-----------+\n",
      "only showing top 3 rows\n",
      "\n",
      "+--------+------+-------------+--------+-----------+-------------+\n",
      "|class_cd|school|class_std_cnt|     loc|school_type|teaching_type|\n",
      "+--------+------+-------------+--------+-----------+-------------+\n",
      "|     6OL| ANKYI|           20|   Urban| Non-public|     Standard|\n",
      "|     ZNS| ANKYI|           21|   Urban| Non-public|     Standard|\n",
      "|     2B1| CCAAW|           18|Suburban| Non-public| Experimental|\n",
      "+--------+------+-------------+--------+-----------+-------------+\n",
      "only showing top 3 rows\n",
      "\n",
      "+--------+------+\n",
      "|class_cd|school|\n",
      "+--------+------+\n",
      "|     6OL| ANKYI|\n",
      "|     ZNS| ANKYI|\n",
      "|     2B1| CCAAW|\n",
      "+--------+------+\n",
      "only showing top 3 rows\n",
      "\n"
     ]
    }
   ],
   "source": [
    "# str\n",
    "class_spark = class_df.select('school', 'loc', 'school_type')\n",
    "class_spark.show(3)\n",
    "\n",
    "#  *(모든 컬럼)\n",
    "class_spark = class_df.select('*')\n",
    "class_spark.show(3)\n",
    "\n",
    "\n",
    "# list\n",
    "class_spark = class_df.select(['class_cd', 'school'])\n",
    "class_spark.show(3)\n"
   ]
  },
  {
   "cell_type": "markdown",
   "metadata": {},
   "source": [
    "### Column "
   ]
  },
  {
   "cell_type": "code",
   "execution_count": 5,
   "metadata": {},
   "outputs": [
    {
     "data": {
      "text/plain": [
       "Column<'school'>"
      ]
     },
     "execution_count": 5,
     "metadata": {},
     "output_type": "execute_result"
    },
    {
     "data": {
      "text/plain": [
       "Column<'school'>"
      ]
     },
     "execution_count": 5,
     "metadata": {},
     "output_type": "execute_result"
    },
    {
     "data": {
      "text/plain": [
       "Column<'unresolvedregex()'>"
      ]
     },
     "execution_count": 5,
     "metadata": {},
     "output_type": "execute_result"
    },
    {
     "data": {
      "text/plain": [
       "Column<'school'>"
      ]
     },
     "execution_count": 5,
     "metadata": {},
     "output_type": "execute_result"
    }
   ],
   "source": [
    "# Column : 내부에 DataFrame 연산을 위한 Expression을 가지고 있는 객체\n",
    "\n",
    "# col 함수를 이용한 컬럼 생성(데이터프레임 안에서 의미가 있음)\n",
    "col('school')\n",
    "\n",
    "# DataFrame 에서 원하는 컬럼을 반환\n",
    "class_df.school\n",
    "\n",
    "# 정규표현식을 이용한 컬럼 반환\n",
    "class_df.colRegex(\"`^school.*`\")\n",
    "\n",
    "# lit을 이용한 컬럼 생성\n",
    "# lit('school')"
   ]
  },
  {
   "cell_type": "code",
   "execution_count": 6,
   "metadata": {
    "scrolled": true
   },
   "outputs": [
    {
     "name": "stdout",
     "output_type": "stream",
     "text": [
      "+------+\n",
      "|school|\n",
      "+------+\n",
      "| ANKYI|\n",
      "| ANKYI|\n",
      "| CCAAW|\n",
      "+------+\n",
      "only showing top 3 rows\n",
      "\n",
      "+------+\n",
      "|school|\n",
      "+------+\n",
      "| ANKYI|\n",
      "| ANKYI|\n",
      "| CCAAW|\n",
      "+------+\n",
      "only showing top 3 rows\n",
      "\n",
      "+------+-----------+\n",
      "|school|school_type|\n",
      "+------+-----------+\n",
      "| ANKYI| Non-public|\n",
      "| ANKYI| Non-public|\n",
      "| CCAAW| Non-public|\n",
      "+------+-----------+\n",
      "only showing top 3 rows\n",
      "\n"
     ]
    }
   ],
   "source": [
    "df_spark = class_df.select(col('school'))\n",
    "df_spark.show(3)\n",
    "\n",
    "df_spark = class_df.select(class_df.school)\n",
    "df_spark.show(3)\n",
    "\n",
    "df_spark = class_df.select(class_df.colRegex(\"`^school.*`\"))\n",
    "df_spark.show(3)\n",
    "\n",
    "# df_spark = class_df.select(lit('school'))\n",
    "# df_spark.show(3)"
   ]
  },
  {
   "cell_type": "markdown",
   "metadata": {},
   "source": [
    "#### Column 연산"
   ]
  },
  {
   "cell_type": "markdown",
   "metadata": {},
   "source": [
    "- 산술연산 :  +  -  *  /  %\n",
    "- 비교연산 : <  >  <=  >=  ==  !=\n",
    "- 논리연산 : &  |\n",
    "\n",
    "\n"
   ]
  },
  {
   "cell_type": "markdown",
   "metadata": {},
   "source": [
    "![op-overloading](./img/op_overloading.png)"
   ]
  },
  {
   "cell_type": "code",
   "execution_count": 21,
   "metadata": {
    "scrolled": true
   },
   "outputs": [
    {
     "data": {
      "text/plain": [
       "Column<'(class_std_cnt + 10)'>"
      ]
     },
     "execution_count": 21,
     "metadata": {},
     "output_type": "execute_result"
    },
    {
     "data": {
      "text/plain": [
       "Column<'(class_std_cnt - 10)'>"
      ]
     },
     "execution_count": 21,
     "metadata": {},
     "output_type": "execute_result"
    },
    {
     "data": {
      "text/plain": [
       "Column<'(class_std_cnt * 10)'>"
      ]
     },
     "execution_count": 21,
     "metadata": {},
     "output_type": "execute_result"
    },
    {
     "data": {
      "text/plain": [
       "Column<'(class_std_cnt / 10)'>"
      ]
     },
     "execution_count": 21,
     "metadata": {},
     "output_type": "execute_result"
    },
    {
     "data": {
      "text/plain": [
       "Column<'POWER(class_std_cnt, 10)'>"
      ]
     },
     "execution_count": 21,
     "metadata": {},
     "output_type": "execute_result"
    },
    {
     "data": {
      "text/plain": [
       "Column<'(class_std_cnt % 10)'>"
      ]
     },
     "execution_count": 21,
     "metadata": {},
     "output_type": "execute_result"
    },
    {
     "data": {
      "text/plain": [
       "Column<'(class_std_cnt < 10)'>"
      ]
     },
     "execution_count": 21,
     "metadata": {},
     "output_type": "execute_result"
    },
    {
     "data": {
      "text/plain": [
       "Column<'(class_std_cnt > 10)'>"
      ]
     },
     "execution_count": 21,
     "metadata": {},
     "output_type": "execute_result"
    },
    {
     "data": {
      "text/plain": [
       "Column<'(class_std_cnt <= 10)'>"
      ]
     },
     "execution_count": 21,
     "metadata": {},
     "output_type": "execute_result"
    },
    {
     "data": {
      "text/plain": [
       "Column<'(class_std_cnt >= 10)'>"
      ]
     },
     "execution_count": 21,
     "metadata": {},
     "output_type": "execute_result"
    },
    {
     "data": {
      "text/plain": [
       "Column<'(class_std_cnt = 10)'>"
      ]
     },
     "execution_count": 21,
     "metadata": {},
     "output_type": "execute_result"
    },
    {
     "data": {
      "text/plain": [
       "Column<'(NOT (class_std_cnt = 10))'>"
      ]
     },
     "execution_count": 21,
     "metadata": {},
     "output_type": "execute_result"
    },
    {
     "data": {
      "text/plain": [
       "Column<'((class_std_cnt >= 10) AND (class_std_cnt < 1000))'>"
      ]
     },
     "execution_count": 21,
     "metadata": {},
     "output_type": "execute_result"
    },
    {
     "name": "stdout",
     "output_type": "stream",
     "text": [
      "+------+--------+------------------------------------------------+\n",
      "|school|class_cd|((class_std_cnt >= 10) AND (class_std_cnt < 20))|\n",
      "+------+--------+------------------------------------------------+\n",
      "| ANKYI|     6OL|                                           false|\n",
      "| ANKYI|     ZNS|                                           false|\n",
      "| CCAAW|     2B1|                                            true|\n",
      "+------+--------+------------------------------------------------+\n",
      "only showing top 3 rows\n",
      "\n",
      "+------+--------+------+\n",
      "|school|class_cd|is_big|\n",
      "+------+--------+------+\n",
      "| ANKYI|     6OL| false|\n",
      "| ANKYI|     ZNS| false|\n",
      "| CCAAW|     2B1|  true|\n",
      "+------+--------+------+\n",
      "only showing top 3 rows\n",
      "\n"
     ]
    }
   ],
   "source": [
    "class_df.class_std_cnt + 10\n",
    "class_df.class_std_cnt - 10\n",
    "class_df.class_std_cnt * 10\n",
    "class_df.class_std_cnt / 10\n",
    "class_df.class_std_cnt ** 10\n",
    "class_df.class_std_cnt % 10\n",
    "class_df.class_std_cnt < 10\n",
    "class_df.class_std_cnt > 10\n",
    "class_df.class_std_cnt <= 10\n",
    "class_df.class_std_cnt >= 10\n",
    "class_df.class_std_cnt == 10\n",
    "class_df.class_std_cnt != 10\n",
    "(class_df.class_std_cnt >= 10) & (class_df.class_std_cnt < 1000)\n",
    "\n",
    "# DataFrame의 select 메서드의 새로운 컬럼을 전달인자로 보낼 경우 해당 컬럼이 추가된 새로운 DataFrame 생성\n",
    "class_df.select(class_df.school, class_df.class_cd, (class_df.class_std_cnt >= 10) & (class_df.class_std_cnt < 20)).show(3)\n",
    "\n",
    "col_is_big = ((class_df.class_std_cnt >= 10) & (class_df.class_std_cnt < 20)).alias('is_big')\n",
    "class_df.select(class_df.school, \n",
    "                class_df.class_cd, \n",
    "                col_is_big).show(3)"
   ]
  },
  {
   "cell_type": "markdown",
   "metadata": {},
   "source": [
    "#### Column 메서드"
   ]
  },
  {
   "cell_type": "code",
   "execution_count": 33,
   "metadata": {
    "scrolled": true
   },
   "outputs": [
    {
     "data": {
      "text/plain": [
       "Column<'class_std_cnt ASC NULLS FIRST'>"
      ]
     },
     "execution_count": 33,
     "metadata": {},
     "output_type": "execute_result"
    },
    {
     "name": "stdout",
     "output_type": "stream",
     "text": [
      "+------+--------+-------------+\n",
      "|school|class_cd|class_std_cnt|\n",
      "+------+--------+-------------+\n",
      "|  null|     5SD|         null|\n",
      "|  null|     4SZ|         null|\n",
      "|  null|     6PP|         null|\n",
      "|  null|     MDE|           10|\n",
      "| FBUMG|     197|           14|\n",
      "| FBUMG|     JGD|           14|\n",
      "| VHDHF|     KR1|           15|\n",
      "| UUUQX|     SSP|           15|\n",
      "| CCAAW|     IQN|           15|\n",
      "| VHDHF|     J6X|           16|\n",
      "| CCAAW|     UHU|           16|\n",
      "| UUUQX|     6C1|           16|\n",
      "| UUUQX|     H7S|           16|\n",
      "| IDGFP|     XZM|           17|\n",
      "| CIMBB|     PC6|           17|\n",
      "| CIMBB|     HUJ|           17|\n",
      "| IDGFP|     P2A|           17|\n",
      "| OJOBU|     5SZ|           17|\n",
      "| IDGFP|     G2L|           17|\n",
      "| UUUQX|     AE1|           17|\n",
      "+------+--------+-------------+\n",
      "only showing top 20 rows\n",
      "\n",
      "+------+--------+-------------+\n",
      "|school|class_cd|class_std_cnt|\n",
      "+------+--------+-------------+\n",
      "| GOOBU|     18K|           31|\n",
      "| ZOWMK|     ZBH|           30|\n",
      "| VVTVA|     A93|           30|\n",
      "| VVTVA|     YTB|           30|\n",
      "| ZOWMK|     Q0E|           30|\n",
      "| ZOWMK|     QA2|           30|\n",
      "| VVTVA|     7BL|           29|\n",
      "| QOQTS|     SUR|           28|\n",
      "| CUQAM|     1Q1|           28|\n",
      "| CUQAM|     OMI|           28|\n",
      "| GOOBU|     HKF|           28|\n",
      "| QOQTS|     0N7|           28|\n",
      "| DNQDD|     ROP|           28|\n",
      "| KFZMY|     1VD|           27|\n",
      "| CUQAM|     BFY|           27|\n",
      "| DNQDD|     XXJ|           27|\n",
      "| DNQDD|     2AP|           27|\n",
      "| GJJHK|     NOR|           27|\n",
      "| ZOWMK|     CII|           27|\n",
      "| GJJHK|     ZDT|           27|\n",
      "+------+--------+-------------+\n",
      "only showing top 20 rows\n",
      "\n"
     ]
    }
   ],
   "source": [
    "school = class_df.school\n",
    "class_cd = class_df.class_cd\n",
    "std_cnt = class_df.class_std_cnt\n",
    "\n",
    "std_cnt.asc()\n",
    "class_df.select(school, class_cd, std_cnt).sort(std_cnt.asc()).show(20)\n",
    "class_df.select(school, class_cd, std_cnt).sort(std_cnt.desc()).show(20)"
   ]
  },
  {
   "cell_type": "markdown",
   "metadata": {},
   "source": [
    "## select 연습"
   ]
  },
  {
   "cell_type": "markdown",
   "metadata": {},
   "source": [
    "DataFrame은 class_df 를 사용합니다\n",
    "\n",
    "1. 모든 row의  class_cd, school, loc, school_type, teaching_type을 출력하시오.  \n",
    "   school_type의 컬럼명은 '공립/사립여부' 로 표시합니다.\n",
    "   \n",
    "   \n",
    "2. class_cd, school, scale 을 출력하시오.   \n",
    "   scale 컬럼은 반의 인원수가 15명 미만이면 small, 15명 이상 25명 미만이면 middle, 25명 이상이면 big 값을 가집니다.\n",
    "   \n",
    "   \n",
    "3. class_cd, school, class_std_cnt를 출력하시오  \n",
    "   class_std_cnt 컬럼의 값들은 string타입으로 형변환합니다."
   ]
  },
  {
   "cell_type": "code",
   "execution_count": 24,
   "metadata": {
    "scrolled": true
   },
   "outputs": [
    {
     "name": "stdout",
     "output_type": "stream",
     "text": [
      "+--------+------+--------+-------------+-------------+\n",
      "|class_cd|school|     loc|공립/사립여부|teaching_type|\n",
      "+--------+------+--------+-------------+-------------+\n",
      "|     6OL| ANKYI|   Urban|   Non-public|     Standard|\n",
      "|     ZNS| ANKYI|   Urban|   Non-public|     Standard|\n",
      "|     2B1| CCAAW|Suburban|   Non-public| Experimental|\n",
      "|     EPS| CCAAW|Suburban|   Non-public| Experimental|\n",
      "|     IQN| CCAAW|Suburban|   Non-public| Experimental|\n",
      "+--------+------+--------+-------------+-------------+\n",
      "only showing top 5 rows\n",
      "\n",
      "+--------+------+------+\n",
      "|class_cd|school| scale|\n",
      "+--------+------+------+\n",
      "|     6OL| ANKYI|middle|\n",
      "|     ZNS| ANKYI|middle|\n",
      "|     2B1| CCAAW|middle|\n",
      "|     EPS| CCAAW|middle|\n",
      "|     IQN| CCAAW|middle|\n",
      "|     PGK| CCAAW|middle|\n",
      "|     UHU| CCAAW|middle|\n",
      "|     UWK| CCAAW|middle|\n",
      "|     A33| CIMBB|middle|\n",
      "|     EID| CIMBB|middle|\n",
      "|     HUJ| CIMBB|middle|\n",
      "|     PC6| CIMBB|middle|\n",
      "|     1Q1| CUQAM|   big|\n",
      "|     BFY| CUQAM|   big|\n",
      "|     OMI| CUQAM|   big|\n",
      "|     X6Z| CUQAM|middle|\n",
      "|     2AP| DNQDD|   big|\n",
      "|     PW5| DNQDD|middle|\n",
      "|     ROP| DNQDD|   big|\n",
      "|     ST7| DNQDD|middle|\n",
      "|     XXJ| DNQDD|   big|\n",
      "|     197| FBUMG| small|\n",
      "|     5LQ| FBUMG|middle|\n",
      "|     JGD| FBUMG| small|\n",
      "|     HCB| GJJHK|middle|\n",
      "|     NOR| GJJHK|   big|\n",
      "|     X78| GJJHK|middle|\n",
      "|     YUC| GJJHK|middle|\n",
      "|     ZDT| GJJHK|   big|\n",
      "|     ENO| GOKXL|middle|\n",
      "+--------+------+------+\n",
      "only showing top 30 rows\n",
      "\n",
      "root\n",
      " |-- class_cd: string (nullable = true)\n",
      " |-- school: string (nullable = true)\n",
      " |-- class_std_cnt: integer (nullable = true)\n",
      "\n"
     ]
    }
   ],
   "source": [
    "# 모든 row의 class_cd, school, loc, school_type, teaching_type을 출력하시오.\n",
    "# school_type의 컬럼명은 '공립/사립여부' 로 표시합니다.\n",
    "# hint : alias()\n",
    "class_df.select('class_cd', 'school', 'loc', class_df.school_type.alias('공립/사립여부'), 'teaching_type').show(5)\n",
    "\n",
    "# class_cd, school, scale 을 출력하시오.\n",
    "# scale 컬럼은 반의 인원수가 15명 미만이면 small, 15명 이상 25명 미만이면 middle, 25명 이상이면 big 값을 가집니다.\n",
    "# hint : when()\n",
    "class_df.select('class_cd', 'school', (when(class_df.class_std_cnt < 15, 'small')\n",
    "                                        .when((class_df.class_std_cnt >= 15) & (class_df.class_std_cnt < 25), 'middle')\n",
    "                                        .otherwise('big')).alias('scale')).show(30)\n",
    "\n",
    "\n",
    "# class_cd, school, class_std_cnt를 출력하시오\n",
    "# class_std_cnt 컬럼의 값들은 string타입으로 형변환합니다.\n",
    "# hint : cast()\n",
    "class_df.select('class_cd', 'school', class_df.class_std_cnt.cast('int')).printSchema()\n",
    "\n"
   ]
  },
  {
   "cell_type": "markdown",
   "metadata": {},
   "source": [
    "### sql"
   ]
  },
  {
   "cell_type": "code",
   "execution_count": 21,
   "metadata": {},
   "outputs": [
    {
     "name": "stdout",
     "output_type": "stream",
     "text": [
      "+--------+------+--------+-----------+-------------+-------------+\n",
      "|class_cd|school|     loc|school_type|공립/사립여부|teaching_type|\n",
      "+--------+------+--------+-----------+-------------+-------------+\n",
      "|     6OL| ANKYI|   Urban| Non-public|     Standard|     Standard|\n",
      "|     ZNS| ANKYI|   Urban| Non-public|     Standard|     Standard|\n",
      "|     2B1| CCAAW|Suburban| Non-public| Experimental| Experimental|\n",
      "+--------+------+--------+-----------+-------------+-------------+\n",
      "only showing top 3 rows\n",
      "\n",
      "+--------+------+------+\n",
      "|class_cd|school| sacle|\n",
      "+--------+------+------+\n",
      "|     6OL| ANKYI|middle|\n",
      "|     ZNS| ANKYI|middle|\n",
      "|     2B1| CCAAW|middle|\n",
      "|     EPS| CCAAW|middle|\n",
      "|     IQN| CCAAW|middle|\n",
      "|     PGK| CCAAW|middle|\n",
      "|     UHU| CCAAW|middle|\n",
      "|     UWK| CCAAW|middle|\n",
      "|     A33| CIMBB|middle|\n",
      "|     EID| CIMBB|middle|\n",
      "|     HUJ| CIMBB|middle|\n",
      "|     PC6| CIMBB|middle|\n",
      "|     1Q1| CUQAM|   big|\n",
      "|     BFY| CUQAM|   big|\n",
      "|     OMI| CUQAM|   big|\n",
      "|     X6Z| CUQAM|middle|\n",
      "|     2AP| DNQDD|   big|\n",
      "|     PW5| DNQDD|middle|\n",
      "|     ROP| DNQDD|   big|\n",
      "|     ST7| DNQDD|middle|\n",
      "|     XXJ| DNQDD|   big|\n",
      "|     197| FBUMG| small|\n",
      "|     5LQ| FBUMG|middle|\n",
      "|     JGD| FBUMG| small|\n",
      "|     HCB| GJJHK|middle|\n",
      "|     NOR| GJJHK|   big|\n",
      "|     X78| GJJHK|middle|\n",
      "|     YUC| GJJHK|middle|\n",
      "|     ZDT| GJJHK|   big|\n",
      "|     ENO| GOKXL|middle|\n",
      "|     TSA| GOKXL|middle|\n",
      "|     VA6| GOKXL|middle|\n",
      "|     18K| GOOBU|   big|\n",
      "|     CXC| GOOBU|middle|\n",
      "|     HKF| GOOBU|   big|\n",
      "|     PBA| GOOBU|middle|\n",
      "|     U6J| GOOBU|   big|\n",
      "|     W8A| GOOBU|   big|\n",
      "|     05H| IDGFP|middle|\n",
      "|     98D| IDGFP|middle|\n",
      "|     G2L| IDGFP|middle|\n",
      "|     P2A| IDGFP|middle|\n",
      "|     XZM| IDGFP|middle|\n",
      "|     1VD| KFZMY|   big|\n",
      "|     21Q| KFZMY|   big|\n",
      "|     2BR| KZKKE|middle|\n",
      "|     3D0| KZKKE|middle|\n",
      "|     5JK| KZKKE|middle|\n",
      "|     O6A| KZKKE|middle|\n",
      "|     QTU| KZKKE|middle|\n",
      "+--------+------+------+\n",
      "only showing top 50 rows\n",
      "\n",
      "root\n",
      " |-- class_cd: string (nullable = true)\n",
      " |-- school: string (nullable = true)\n",
      " |-- class_std_cnt: string (nullable = true)\n",
      "\n"
     ]
    }
   ],
   "source": [
    "# sql을 사용해 같은 결과를 받아보기\n",
    "\n",
    "# dataFrame을 테이블로 등록\n",
    "class_df.createOrReplaceTempView('class')\n",
    "\n",
    "# 모든 row의 class_cd, school, loc, school_type, teaching_type을 출력하시오.\n",
    "# school_type의 컬럼명은 '공립/사립여부' 로 표시합니다.\n",
    "#  경우 백틱(``) 사용\n",
    "spark.sql('''\n",
    "    select class_cd, school, loc, school_type, teaching_type as `공립/사립여부`, teaching_type from class\n",
    "''').show(3)\n",
    "\n",
    "\n",
    "# class_cd, school, scale 을 출력하시오.\n",
    "# scale 컬럼은 반의 인원수가 15명 미만이면 small, 15명 이상 25명 미만이면 middle, 25명 이상이면 big 값을 가집니다.\n",
    "spark.sql('''\n",
    "    select class_cd, school,\n",
    "        case when class_std_cnt < 15 then 'small'\n",
    "            when class_std_cnt >= 15 and class_std_cnt < 25 then 'middle'\n",
    "            else 'big'\n",
    "        end as sacle \n",
    "    from class\n",
    "''').show(50)\n",
    "\n",
    "\n",
    "# class_cd, school, class_std_cnt를 출력하시오\n",
    "# class_std_cnt 컬럼의 값들은 string타입으로 형변환합니다.\n",
    "# spark built-in-fnc 의 cast()\n",
    "spark.sql('''\n",
    "    select class_cd, school, cast(class_std_cnt as string) from class\n",
    "''').printSchema()"
   ]
  },
  {
   "cell_type": "markdown",
   "metadata": {},
   "source": [
    "## where(), filter()"
   ]
  },
  {
   "cell_type": "markdown",
   "metadata": {},
   "source": [
    "1. 공립이면서 교육방식이 전문인 데이터를 출력하시오\n",
    "\n",
    "2. 사립이면서 교육방식이 표준인 데이터를 출력하시오\n",
    "\n",
    "3. 학교 이름이 V로 시작하는 데이터를 출력하시오\n",
    "\n",
    "4. 학교 이름이 M로 끝나는 데이터를 출력하시오\n",
    "\n",
    "5. 학교 이름에 NKY가 포함된 데이터를 출력하시오\n",
    "\n",
    "6. 반의 학생 수가 15명 이상 24명 이하인 데이터를 출력하시오\n",
    "\n",
    "7. 학교 이름이 입력되지 않은 데이터들을 출력하시오\n"
   ]
  },
  {
   "cell_type": "code",
   "execution_count": 5,
   "metadata": {},
   "outputs": [
    {
     "name": "stdout",
     "output_type": "stream",
     "text": [
      "공립이면서 교육방식이 전문인 데이터를 출력하시오.\n",
      "+--------+------+-------------+--------+-----------+-------------+\n",
      "|class_cd|school|class_std_cnt|     loc|school_type|teaching_type|\n",
      "+--------+------+-------------+--------+-----------+-------------+\n",
      "|     X6Z| CUQAM|           24|   Urban|     Public| Experimental|\n",
      "|     PW5| DNQDD|           20|Suburban|     Public| Experimental|\n",
      "|     ROP| DNQDD|           28|Suburban|     Public| Experimental|\n",
      "|     NOR| GJJHK|           27|Suburban|     Public| Experimental|\n",
      "|     ENO| GOKXL|           22|   Rural|     Public| Experimental|\n",
      "+--------+------+-------------+--------+-----------+-------------+\n",
      "only showing top 5 rows\n",
      "\n",
      "사립이면서 교육방식이 표준 데이터를 출력하시오.\n",
      "+--------+------+-------------+--------+-----------+-------------+\n",
      "|class_cd|school|class_std_cnt|     loc|school_type|teaching_type|\n",
      "+--------+------+-------------+--------+-----------+-------------+\n",
      "|     6OL| ANKYI|           20|   Urban| Non-public|     Standard|\n",
      "|     ZNS| ANKYI|           21|   Urban| Non-public|     Standard|\n",
      "|     PGK| CCAAW|           21|Suburban| Non-public|     Standard|\n",
      "|     UWK| CCAAW|           19|Suburban| Non-public|     Standard|\n",
      "|     A33| CIMBB|           19|   Urban| Non-public|     Standard|\n",
      "+--------+------+-------------+--------+-----------+-------------+\n",
      "only showing top 5 rows\n",
      "\n",
      "학교 이름이 V로 시작하는 데이터를 출력하시오.\n",
      "+--------+------+-------------+-----+-----------+-------------+\n",
      "|class_cd|school|class_std_cnt|  loc|school_type|teaching_type|\n",
      "+--------+------+-------------+-----+-----------+-------------+\n",
      "|     CD8| VHDHF|           20|Rural| Non-public| Experimental|\n",
      "|     J6X| VHDHF|           16|Rural| Non-public|     Standard|\n",
      "|     KR1| VHDHF|           15|Rural| Non-public| Experimental|\n",
      "|     341| VKWQH|           18|Rural|     Public|     Standard|\n",
      "|     D33| VKWQH|           21|Rural|     Public|     Standard|\n",
      "+--------+------+-------------+-----+-----------+-------------+\n",
      "only showing top 5 rows\n",
      "\n",
      "+--------+------+-------------+-----+-----------+-------------+\n",
      "|class_cd|school|class_std_cnt|  loc|school_type|teaching_type|\n",
      "+--------+------+-------------+-----+-----------+-------------+\n",
      "|     CD8| VHDHF|           20|Rural| Non-public| Experimental|\n",
      "|     J6X| VHDHF|           16|Rural| Non-public|     Standard|\n",
      "|     KR1| VHDHF|           15|Rural| Non-public| Experimental|\n",
      "|     341| VKWQH|           18|Rural|     Public|     Standard|\n",
      "|     D33| VKWQH|           21|Rural|     Public|     Standard|\n",
      "+--------+------+-------------+-----+-----------+-------------+\n",
      "only showing top 5 rows\n",
      "\n",
      "학교 이름이 M로 끝하는 데이터를 출력하시오.\n",
      "+--------+------+-------------+-----+-----------+-------------+\n",
      "|class_cd|school|class_std_cnt|  loc|school_type|teaching_type|\n",
      "+--------+------+-------------+-----+-----------+-------------+\n",
      "|     1Q1| CUQAM|           28|Urban|     Public|     Standard|\n",
      "|     BFY| CUQAM|           27|Urban|     Public|     Standard|\n",
      "|     OMI| CUQAM|           28|Urban|     Public|     Standard|\n",
      "|     X6Z| CUQAM|           24|Urban|     Public| Experimental|\n",
      "+--------+------+-------------+-----+-----------+-------------+\n",
      "\n",
      "+--------+------+-------------+-----+-----------+-------------+\n",
      "|class_cd|school|class_std_cnt|  loc|school_type|teaching_type|\n",
      "+--------+------+-------------+-----+-----------+-------------+\n",
      "|     1Q1| CUQAM|           28|Urban|     Public|     Standard|\n",
      "|     BFY| CUQAM|           27|Urban|     Public|     Standard|\n",
      "|     OMI| CUQAM|           28|Urban|     Public|     Standard|\n",
      "|     X6Z| CUQAM|           24|Urban|     Public| Experimental|\n",
      "+--------+------+-------------+-----+-----------+-------------+\n",
      "\n",
      "학교 이름에 NKY가 들어가는 데이터를 출력하시오.\n",
      "+--------+------+-------------+-----+-----------+-------------+\n",
      "|class_cd|school|class_std_cnt|  loc|school_type|teaching_type|\n",
      "+--------+------+-------------+-----+-----------+-------------+\n",
      "|     6OL| ANKYI|           20|Urban| Non-public|     Standard|\n",
      "|     ZNS| ANKYI|           21|Urban| Non-public|     Standard|\n",
      "+--------+------+-------------+-----+-----------+-------------+\n",
      "\n",
      "+--------+------+-------------+-----+-----------+-------------+\n",
      "|class_cd|school|class_std_cnt|  loc|school_type|teaching_type|\n",
      "+--------+------+-------------+-----+-----------+-------------+\n",
      "|     6OL| ANKYI|           20|Urban| Non-public|     Standard|\n",
      "|     ZNS| ANKYI|           21|Urban| Non-public|     Standard|\n",
      "+--------+------+-------------+-----+-----------+-------------+\n",
      "\n",
      "반의 학생 수가 15명 이상 24명 이하인 데이터를 출력하시오.\n",
      "+--------+------+-------------+--------+-----------+-------------+\n",
      "|class_cd|school|class_std_cnt|     loc|school_type|teaching_type|\n",
      "+--------+------+-------------+--------+-----------+-------------+\n",
      "|     6OL| ANKYI|           20|   Urban| Non-public|     Standard|\n",
      "|     ZNS| ANKYI|           21|   Urban| Non-public|     Standard|\n",
      "|     2B1| CCAAW|           18|Suburban| Non-public| Experimental|\n",
      "|     EPS| CCAAW|           20|Suburban| Non-public| Experimental|\n",
      "|     IQN| CCAAW|           15|Suburban| Non-public| Experimental|\n",
      "+--------+------+-------------+--------+-----------+-------------+\n",
      "only showing top 5 rows\n",
      "\n",
      "학교 이름이 입력되지 않은 데이터들을 출력하시오\n",
      "+--------+------+-------------+-----+-----------+-------------+\n",
      "|class_cd|school|class_std_cnt|  loc|school_type|teaching_type|\n",
      "+--------+------+-------------+-----+-----------+-------------+\n",
      "|     MDS|  null|           18|Rural| Non-public|     Standard|\n",
      "|     MDE|  null|           10|Rural| Non-public| Experimental|\n",
      "|     6PP|  null|         null| null|       null|         null|\n",
      "|     4SZ|  null|         null| null|       null|         null|\n",
      "|     5SD|  null|         null| null|       null|         null|\n",
      "+--------+------+-------------+-----+-----------+-------------+\n",
      "\n"
     ]
    }
   ],
   "source": [
    "# dataFrame을 테이블로 등록\n",
    "class_df.createOrReplaceTempView('class')\n",
    "\n",
    "print('공립이면서 교육방식이 전문인 데이터를 출력하시오.')\n",
    "class_df.select('*') \\\n",
    "            .where((class_df.school_type == 'Public') & \n",
    "                   (class_df.teaching_type == 'Experimental')) \\\n",
    "            .show(5)\n",
    "\n",
    "print('사립이면서 교육방식이 표준 데이터를 출력하시오.')\n",
    "class_df.select('*') \\\n",
    "            .where((class_df.school_type == 'Non-public') & \n",
    "                   (class_df.teaching_type == 'Standard')) \\\n",
    "            .show(5)\n",
    "\n",
    "print('학교 이름이 V로 시작하는 데이터를 출력하시오.')\n",
    "# like 사용\n",
    "class_df.select('*') \\\n",
    "        .where(class_df.school.like('V%')) \\\n",
    "        .show(5)\n",
    "# startswith() (''~로 시작하는' 의 의미) 로 풀이\n",
    "class_df.select('*') \\\n",
    "        .where(class_df.school.startswith('V')) \\\n",
    "        .show(5)\n",
    "\n",
    "print('학교 이름이 M로 끝하는 데이터를 출력하시오.')\n",
    "# like 사용\n",
    "class_df.select('*') \\\n",
    "        .where(class_df.school.like('%M')) \\\n",
    "        .show(5)\n",
    "# endswith() (''~로 끝나는' 의 의미) 로 풀이\n",
    "class_df.select('*') \\\n",
    "        .where(class_df.school.endswith('M')) \\\n",
    "        .show(5)\n",
    "\n",
    "print('학교 이름에 NKY가 들어가는 데이터를 출력하시오.')\n",
    "class_df.select('*') \\\n",
    "        .where(class_df.school.like('%NKY%')) \\\n",
    "        .show(5)\n",
    "# contains() (~를 포함하고 있는)로 풀이\n",
    "class_df.select('*') \\\n",
    "        .where(class_df.school.contains('NKY')) \\\n",
    "        .show(5)\n",
    "\n",
    "print('반의 학생 수가 15명 이상 24명 이하인 데이터를 출력하시오.')\n",
    "class_df.select('*') \\\n",
    "        .where(class_df.class_std_cnt.between(15, 24)) \\\n",
    "        .show(5)\n",
    "\n",
    "print('학교 이름이 입력되지 않은 데이터들을 출력하시오')\n",
    "class_df.select('*') \\\n",
    "        .filter(class_df.school.isNull()) \\\n",
    "        .show(5)"
   ]
  },
  {
   "cell_type": "markdown",
   "metadata": {},
   "source": [
    "#### sql"
   ]
  },
  {
   "cell_type": "code",
   "execution_count": 25,
   "metadata": {},
   "outputs": [
    {
     "name": "stdout",
     "output_type": "stream",
     "text": [
      "root\n",
      " |-- class_cd: string (nullable = true)\n",
      " |-- school: string (nullable = true)\n",
      " |-- class_std_cnt: string (nullable = true)\n",
      " |-- loc: string (nullable = true)\n",
      " |-- school_type: string (nullable = true)\n",
      " |-- teaching_type: string (nullable = true)\n",
      "\n",
      "공립이면서 교육방식이 전문인 데이터를 출력하시오.\n",
      "+--------+------+-------------+--------+-----------+-------------+\n",
      "|class_cd|school|class_std_cnt|     loc|school_type|teaching_type|\n",
      "+--------+------+-------------+--------+-----------+-------------+\n",
      "|     X6Z| CUQAM|           24|   Urban|     Public| Experimental|\n",
      "|     PW5| DNQDD|           20|Suburban|     Public| Experimental|\n",
      "|     ROP| DNQDD|           28|Suburban|     Public| Experimental|\n",
      "|     NOR| GJJHK|           27|Suburban|     Public| Experimental|\n",
      "|     ENO| GOKXL|           22|   Rural|     Public| Experimental|\n",
      "+--------+------+-------------+--------+-----------+-------------+\n",
      "only showing top 5 rows\n",
      "\n",
      "사립이면서 교육방식이 표준 데이터를 출력하시오.\n",
      "+--------+------+-------------+--------+-----------+-------------+\n",
      "|class_cd|school|class_std_cnt|     loc|school_type|teaching_type|\n",
      "+--------+------+-------------+--------+-----------+-------------+\n",
      "|     6OL| ANKYI|           20|   Urban| Non-public|     Standard|\n",
      "|     ZNS| ANKYI|           21|   Urban| Non-public|     Standard|\n",
      "|     PGK| CCAAW|           21|Suburban| Non-public|     Standard|\n",
      "|     UWK| CCAAW|           19|Suburban| Non-public|     Standard|\n",
      "|     A33| CIMBB|           19|   Urban| Non-public|     Standard|\n",
      "+--------+------+-------------+--------+-----------+-------------+\n",
      "only showing top 5 rows\n",
      "\n",
      "학교 이름이 V로 시작하는 데이터를 출력하시오.\n",
      "+--------+------+-------------+-----+-----------+-------------+\n",
      "|class_cd|school|class_std_cnt|  loc|school_type|teaching_type|\n",
      "+--------+------+-------------+-----+-----------+-------------+\n",
      "|     CD8| VHDHF|           20|Rural| Non-public| Experimental|\n",
      "|     J6X| VHDHF|           16|Rural| Non-public|     Standard|\n",
      "|     KR1| VHDHF|           15|Rural| Non-public| Experimental|\n",
      "|     341| VKWQH|           18|Rural|     Public|     Standard|\n",
      "|     D33| VKWQH|           21|Rural|     Public|     Standard|\n",
      "+--------+------+-------------+-----+-----------+-------------+\n",
      "only showing top 5 rows\n",
      "\n",
      "학교 이름이 M로 끝하는 데이터를 출력하시오.\n",
      "+--------+------+-------------+-----+-----------+-------------+\n",
      "|class_cd|school|class_std_cnt|  loc|school_type|teaching_type|\n",
      "+--------+------+-------------+-----+-----------+-------------+\n",
      "|     1Q1| CUQAM|           28|Urban|     Public|     Standard|\n",
      "|     BFY| CUQAM|           27|Urban|     Public|     Standard|\n",
      "|     OMI| CUQAM|           28|Urban|     Public|     Standard|\n",
      "|     X6Z| CUQAM|           24|Urban|     Public| Experimental|\n",
      "+--------+------+-------------+-----+-----------+-------------+\n",
      "\n",
      "학교 이름에 NKY가 들어가는 데이터를 출력하시오.\n",
      "+--------+------+-------------+-----+-----------+-------------+\n",
      "|class_cd|school|class_std_cnt|  loc|school_type|teaching_type|\n",
      "+--------+------+-------------+-----+-----------+-------------+\n",
      "|     6OL| ANKYI|           20|Urban| Non-public|     Standard|\n",
      "|     ZNS| ANKYI|           21|Urban| Non-public|     Standard|\n",
      "+--------+------+-------------+-----+-----------+-------------+\n",
      "\n",
      "반의 학생 수가 15명 이상 24명 이하인 데이터를 출력하시오.\n",
      "+--------+------+-------------+--------+-----------+-------------+\n",
      "|class_cd|school|class_std_cnt|     loc|school_type|teaching_type|\n",
      "+--------+------+-------------+--------+-----------+-------------+\n",
      "|     6OL| ANKYI|           20|   Urban| Non-public|     Standard|\n",
      "|     ZNS| ANKYI|           21|   Urban| Non-public|     Standard|\n",
      "|     2B1| CCAAW|           18|Suburban| Non-public| Experimental|\n",
      "|     EPS| CCAAW|           20|Suburban| Non-public| Experimental|\n",
      "|     IQN| CCAAW|           15|Suburban| Non-public| Experimental|\n",
      "+--------+------+-------------+--------+-----------+-------------+\n",
      "only showing top 5 rows\n",
      "\n",
      "학교 이름이 입력되지 않은 데이터들을 출력하시오\n",
      "+--------+------+-------------+-----+-----------+-------------+\n",
      "|class_cd|school|class_std_cnt|  loc|school_type|teaching_type|\n",
      "+--------+------+-------------+-----+-----------+-------------+\n",
      "|     MDS|  null|           18|Rural| Non-public|     Standard|\n",
      "|     MDE|  null|           10|Rural| Non-public| Experimental|\n",
      "|     6PP|  null|         null| null|       null|         null|\n",
      "|     4SZ|  null|         null| null|       null|         null|\n",
      "|     5SD|  null|         null| null|       null|         null|\n",
      "+--------+------+-------------+-----+-----------+-------------+\n",
      "\n"
     ]
    }
   ],
   "source": [
    "class_df.printSchema()\n",
    "\n",
    "print('공립이면서 교육방식이 전문인 데이터를 출력하시오.')\n",
    "spark.sql('''\n",
    "    select * from class \n",
    "    where school_type = 'Public' and teaching_type = 'Experimental'\n",
    "''').show(5)\n",
    "\n",
    "print('사립이면서 교육방식이 표준 데이터를 출력하시오.')\n",
    "spark.sql('''\n",
    "    select * from class \n",
    "    where school_type= 'Non-public' and teaching_type = 'Standard'\n",
    "''').show(5)\n",
    "\n",
    "print('학교 이름이 V로 시작하는 데이터를 출력하시오.')\n",
    "spark.sql('''\n",
    "    select * from class \n",
    "    where school like 'V%'\n",
    "''').show(5)\n",
    "\n",
    "print('학교 이름이 M로 끝하는 데이터를 출력하시오.')\n",
    "spark.sql('''\n",
    "    select * from class \n",
    "    where school like '%M'\n",
    "''').show(5)\n",
    "\n",
    "print('학교 이름에 NKY가 들어가는 데이터를 출력하시오.')\n",
    "spark.sql('''\n",
    "    select * from class \n",
    "    where school like '%NKY%'\n",
    "''').show(5)\n",
    "\n",
    "print('반의 학생 수가 15명 이상 24명 이하인 데이터를 출력하시오.')\n",
    "spark.sql('''\n",
    "    select * from class \n",
    "    where class_std_cnt between 15 and 24\n",
    "''').show(5)\n",
    "\n",
    "print('학교 이름이 입력되지 않은 데이터들을 출력하시오')\n",
    "spark.sql('''\n",
    "    select * from class \n",
    "    where school is null\n",
    "''').show(5)\n"
   ]
  }
 ],
 "metadata": {
  "kernelspec": {
   "display_name": "Python 3 (ipykernel)",
   "language": "python",
   "name": "python3"
  },
  "language_info": {
   "codemirror_mode": {
    "name": "ipython",
    "version": 3
   },
   "file_extension": ".py",
   "mimetype": "text/x-python",
   "name": "python",
   "nbconvert_exporter": "python",
   "pygments_lexer": "ipython3",
   "version": "3.8.10"
  }
 },
 "nbformat": 4,
 "nbformat_minor": 5
}
