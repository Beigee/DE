{
 "cells": [
  {
   "cell_type": "code",
   "execution_count": 2,
   "id": "8295554c",
   "metadata": {},
   "outputs": [
    {
     "name": "stdout",
     "output_type": "stream",
     "text": [
      "Requirement already satisfied: hdfs in /home/big/.local/lib/python3.8/site-packages (2.7.0)\n",
      "Requirement already satisfied: requests>=2.7.0 in /home/big/.local/lib/python3.8/site-packages (from hdfs) (2.28.0)\n",
      "Requirement already satisfied: six>=1.9.0 in /home/big/.local/lib/python3.8/site-packages (from hdfs) (1.16.0)\n",
      "Requirement already satisfied: docopt in /home/big/.local/lib/python3.8/site-packages (from hdfs) (0.6.2)\n",
      "Requirement already satisfied: certifi>=2017.4.17 in /home/big/.local/lib/python3.8/site-packages (from requests>=2.7.0->hdfs) (2022.9.14)\n",
      "Requirement already satisfied: urllib3<1.27,>=1.21.1 in /home/big/.local/lib/python3.8/site-packages (from requests>=2.7.0->hdfs) (1.26.12)\n",
      "Requirement already satisfied: charset-normalizer~=2.0.0 in /home/big/.local/lib/python3.8/site-packages (from requests>=2.7.0->hdfs) (2.0.12)\n",
      "Requirement already satisfied: idna<4,>=2.5 in /home/big/.local/lib/python3.8/site-packages (from requests>=2.7.0->hdfs) (3.4)\n"
     ]
    }
   ],
   "source": [
    "# !pip install hdfs\n",
    "# ref : https://hdfscli.readthedocs.io/en/latest/quickstart.html #python-bindings\n"
   ]
  },
  {
   "cell_type": "code",
   "execution_count": 3,
   "id": "52549622",
   "metadata": {},
   "outputs": [],
   "source": [
    "import requests\n",
    "import json\n",
    "import datetime as dt\n",
    "from hdfs import InsecureClient\n",
    "client = InsecureClient('http://localhost:9870', user='big')"
   ]
  },
  {
   "cell_type": "markdown",
   "id": "ffe9d8ca",
   "metadata": {},
   "source": [
    "## hdfs로 부터 읽기"
   ]
  },
  {
   "cell_type": "code",
   "execution_count": 4,
   "id": "74935262",
   "metadata": {},
   "outputs": [
    {
     "name": "stdout",
     "output_type": "stream",
     "text": [
      "하명도 스파크 50\r\n",
      "홍길동 스파크 80\r\n",
      "임꺽정 스파크 60\r\n",
      "임요환 텐서플로우 100\r\n",
      "홍진호 텐서플로우 22\r\n",
      "홍진호 텐서플로우 22\r\n",
      "이윤열 텐서플로우 90\r\n",
      "최연성 장고 100\n"
     ]
    }
   ],
   "source": [
    "with client.read('/rdd/score.txt') as reader:\n",
    "  score = reader.read()\n",
    "score_str = bytes.decode(score)\n",
    "print(score_str)"
   ]
  },
  {
   "cell_type": "markdown",
   "id": "e6879583",
   "metadata": {},
   "source": [
    "## hdfs에 쓰기"
   ]
  },
  {
   "cell_type": "code",
   "execution_count": 5,
   "id": "68f29f71",
   "metadata": {
    "scrolled": true
   },
   "outputs": [
    {
     "ename": "FileNotFoundError",
     "evalue": "[Errno 2] No such file or directory: '/home/big/study/data/corona_data/sido_area.csv'",
     "output_type": "error",
     "traceback": [
      "\u001b[0;31m---------------------------------------------------------------------------\u001b[0m",
      "\u001b[0;31mFileNotFoundError\u001b[0m                         Traceback (most recent call last)",
      "Input \u001b[0;32mIn [5]\u001b[0m, in \u001b[0;36m<cell line: 1>\u001b[0;34m()\u001b[0m\n\u001b[0;32m----> 1\u001b[0m \u001b[38;5;28;01mwith\u001b[39;00m \u001b[38;5;28;43mopen\u001b[39;49m\u001b[43m(\u001b[49m\u001b[38;5;124;43m'\u001b[39;49m\u001b[38;5;124;43m/home/big/study/data/corona_data/sido_area.csv\u001b[39;49m\u001b[38;5;124;43m'\u001b[39;49m\u001b[43m,\u001b[49m\u001b[43m \u001b[49m\u001b[43mencoding\u001b[49m\u001b[38;5;241;43m=\u001b[39;49m\u001b[38;5;124;43m'\u001b[39;49m\u001b[38;5;124;43mCP949\u001b[39;49m\u001b[38;5;124;43m'\u001b[39;49m\u001b[43m)\u001b[49m \u001b[38;5;28;01mas\u001b[39;00m reader, client\u001b[38;5;241m.\u001b[39mwrite(\u001b[38;5;124m'\u001b[39m\u001b[38;5;124m/corona_data/loc/sido_area.csv\u001b[39m\u001b[38;5;124m'\u001b[39m) \u001b[38;5;28;01mas\u001b[39;00m writer:\n\u001b[1;32m      2\u001b[0m   \u001b[38;5;28;01mfor\u001b[39;00m line \u001b[38;5;129;01min\u001b[39;00m reader:\n\u001b[1;32m      3\u001b[0m         writer\u001b[38;5;241m.\u001b[39mwrite(line\u001b[38;5;241m.\u001b[39mencode(\u001b[38;5;124m'\u001b[39m\u001b[38;5;124mCP949\u001b[39m\u001b[38;5;124m'\u001b[39m))\n",
      "\u001b[0;31mFileNotFoundError\u001b[0m: [Errno 2] No such file or directory: '/home/big/study/data/corona_data/sido_area.csv'"
     ]
    }
   ],
   "source": [
    "with open('/home/big/study/data/corona_data/sido_area.csv', encoding='CP949') as reader, client.write('/corona_data/loc/sido_area.csv') as writer:\n",
    "  for line in reader:\n",
    "        writer.write(line.encode('CP949'))"
   ]
  },
  {
   "cell_type": "code",
   "execution_count": 15,
   "id": "c9e0985a",
   "metadata": {
    "scrolled": true
   },
   "outputs": [
    {
     "data": {
      "text/plain": [
       "'/corona_data/loc'"
      ]
     },
     "execution_count": 15,
     "metadata": {},
     "output_type": "execute_result"
    }
   ],
   "source": [
    "client.upload('/corona_data/loc', '/home/big/study/data/corona_data/')"
   ]
  },
  {
   "cell_type": "markdown",
   "id": "cbc14911",
   "metadata": {},
   "source": [
    "## hdfs에 수정하기"
   ]
  },
  {
   "cell_type": "code",
   "execution_count": 16,
   "id": "3037d871",
   "metadata": {},
   "outputs": [],
   "source": [
    "client.write('/rdd/score.txt', '최연성 장고 100'.encode('UTF-8'), append=True)"
   ]
  },
  {
   "cell_type": "markdown",
   "id": "bde5e3b2",
   "metadata": {},
   "source": [
    "## hdfs 권한 수정"
   ]
  },
  {
   "cell_type": "code",
   "execution_count": 17,
   "id": "d6d51a43",
   "metadata": {},
   "outputs": [],
   "source": [
    "client.set_permission('/corona_data/loc', 777)"
   ]
  },
  {
   "cell_type": "markdown",
   "id": "cd928816",
   "metadata": {},
   "source": [
    "## hdfs 삭제"
   ]
  },
  {
   "cell_type": "code",
   "execution_count": 11,
   "id": "f308d93f",
   "metadata": {
    "scrolled": true
   },
   "outputs": [
    {
     "data": {
      "text/plain": [
       "True"
      ]
     },
     "execution_count": 11,
     "metadata": {},
     "output_type": "execute_result"
    }
   ],
   "source": [
    "client.delete('/corona_data/vaccine/corona_vaccine_2022-09-15.json')\n",
    "client.delete('/corona_data/vaccine/corona_vaccine_2022-09-17.json')\n",
    "client.delete('/corona_data/vaccine/corona_vaccine_2022-09-19.json')\n",
    "client.delete('/corona_data/vaccine/corona_vaccine_2022-09-20.json')\n",
    "\n",
    "# client.delete('/corona_data/loc/sido_population.xlsx')"
   ]
  },
  {
   "cell_type": "markdown",
   "id": "1148051e",
   "metadata": {},
   "source": [
    "## REST_API로 데이터를 호출해 HDFS에 저장"
   ]
  },
  {
   "cell_type": "code",
   "execution_count": 6,
   "id": "9244340c",
   "metadata": {},
   "outputs": [
    {
     "name": "stdout",
     "output_type": "stream",
     "text": [
      "Requirement already satisfied: requests in /home/big/.local/lib/python3.8/site-packages (2.28.0)\n",
      "Requirement already satisfied: certifi>=2017.4.17 in /home/big/.local/lib/python3.8/site-packages (from requests) (2022.9.14)\n",
      "Requirement already satisfied: urllib3<1.27,>=1.21.1 in /home/big/.local/lib/python3.8/site-packages (from requests) (1.26.12)\n",
      "Requirement already satisfied: charset-normalizer~=2.0.0 in /home/big/.local/lib/python3.8/site-packages (from requests) (2.0.12)\n",
      "Requirement already satisfied: idna<4,>=2.5 in /home/big/.local/lib/python3.8/site-packages (from requests) (3.4)\n"
     ]
    }
   ],
   "source": [
    "# !pip install requests\n",
    "# 함수 생성\n",
    "def execute_rest_api(method, url, headers, params):\n",
    "    if method == 'get':\n",
    "        res = requests.get(url, params=params, headers=headers)\n",
    "    elif method == 'post':\n",
    "        res = requests.post(url, params=params, headers=headers)\n",
    "        \n",
    "    if res == None or res.status_code != 200:\n",
    "        raise Exception('응답코드 : ' + str(res.status_code))\n",
    "        \n",
    "    return res.text\n"
   ]
  },
  {
   "cell_type": "markdown",
   "id": "0d74d148",
   "metadata": {},
   "source": [
    "### 기준일자 함수"
   ]
  },
  {
   "cell_type": "code",
   "execution_count": 7,
   "id": "0e2481b5",
   "metadata": {},
   "outputs": [],
   "source": [
    "# 일자 생성 함수\n",
    "def cal_std_day(befor_day):   \n",
    "    x = dt.datetime.now() - dt.timedelta(befor_day)\n",
    "    year = x.year\n",
    "    month = x.month if x.month >= 10 else '0'+ str(x.month)\n",
    "    day = x.day if x.day >= 10 else '0'+ str(x.day)  \n",
    "    return str(year)+ '-' +str(month)+ '-' +str(day)\n"
   ]
  },
  {
   "cell_type": "markdown",
   "id": "07cf58e3",
   "metadata": {},
   "source": [
    "### logger"
   ]
  },
  {
   "cell_type": "code",
   "execution_count": 8,
   "id": "4be05ed5",
   "metadata": {},
   "outputs": [],
   "source": [
    "import logging\n",
    "\n",
    "co_logger = logging.getLogger('corona_api')\n",
    "handler = logging.FileHandler('./log/rest_api/'+cal_std_day(0)+'.log')\n",
    "co_logger.addHandler(handler)\n"
   ]
  },
  {
   "cell_type": "code",
   "execution_count": 24,
   "id": "10b18f47",
   "metadata": {},
   "outputs": [
    {
     "name": "stderr",
     "output_type": "stream",
     "text": [
      "ERROR:corona_api:테스트 에러 로그 입니다.\n"
     ]
    }
   ],
   "source": [
    "co_logger.error('테스트 에러 로그 입니다.')"
   ]
  },
  {
   "cell_type": "markdown",
   "id": "bd996f53",
   "metadata": {},
   "source": [
    "### api 호출"
   ]
  },
  {
   "cell_type": "code",
   "execution_count": null,
   "id": "bafc6a57",
   "metadata": {},
   "outputs": [],
   "source": [
    "url = 'http://apis.data.go.kr/1352000/ODMS_COVID_04/callCovid04Api'\n",
    "serviceKey = 'ieyyBBtAz1MCYnzzCoowSgBsd0mIQZMvRafW5mthdtaASR4xv3SSa+2BEv8oxjHNzgfe6LypMzGNG+zCLf39aA=='\n",
    "file_dir = '/corona_data/patient/'\n",
    "\n",
    "def create_param(before_day):\n",
    "    return {\n",
    "        'serviceKey':serviceKey\n",
    "        , 'pageNo':'1'\n",
    "        , 'numOfRows':'500'\n",
    "        , 'apiType':'JSON'\n",
    "        , 'std_day':cal_std_day(before_day)\n",
    "    }\n",
    "\n",
    "for i in range(1, 50):\n",
    "    params = create_param(i)\n",
    "    log_dict = {\n",
    "        'is_success':'Fail'\n",
    "        , 'type':'corona_patient'\n",
    "        , 'std_day':params['std_day']\n",
    "        , 'params':params\n",
    "    }\n",
    "    \n",
    "    try:\n",
    "        res = execute_rest_api('get', url, {}, params)\n",
    "        file_name = 'corona_patient_' + params['std_day'] + '.json'\n",
    "        client.write(file_dir+file_name, res, encoding='UTF-8')\n",
    "    except Exception as e:\n",
    "        log_dict['err_msg'] = e.__str__()\n",
    "        log_json = json.dumps(log_dict, ensure_ascii=False)\n",
    "        co_logger.error(log_json)\n"
   ]
  },
  {
   "cell_type": "markdown",
   "id": "f4957fbd",
   "metadata": {},
   "source": [
    "## 웹크롤링 hdfs 저장"
   ]
  },
  {
   "cell_type": "code",
   "execution_count": 16,
   "id": "63e853db",
   "metadata": {},
   "outputs": [],
   "source": [
    "# !pip install BeautifulSoup4\n",
    "\n",
    "from bs4 import BeautifulSoup\n",
    "\n",
    "file_dir = '/corona_data/vaccine/'\n",
    "file_name = 'corona_vaccine_' + cal_std_day(1) +'.json'\n",
    "\n",
    "url = 'https://ncv.kdca.go.kr/mainStatus.es?mid=a11702000000'\n",
    "reponse_txt = execute_rest_api('get', url, {}, {})\n",
    "soup = BeautifulSoup(reponse_txt, 'html.parser')\n",
    "trs = soup.select('#content > div.data_table.tbl_scrl_t > table > tbody > tr')\n",
    "\n",
    "cols = ['loc', 'v1', 'v2', 'v3', 'v4']\n",
    "data = []\n",
    "\n",
    "for idx, tr in enumerate(trs):\n",
    "    if idx == 0:\n",
    "        continue\n",
    "    th = tr.select('th')\n",
    "    tds = tr.select('td')\n",
    "    \n",
    "    rows = []\n",
    "    rows.append(th[0].text.replace(' ', '').replace('\\r\\n', ''))\n",
    "    \n",
    "    for idx, td in enumerate(tds):\n",
    "        if idx % 2 == 0:\n",
    "            continue\n",
    "        rows.append(td.text.replace(' ', '').replace('\\r\\n', '').replace(',', ''))\n",
    "        \n",
    "        tmp = dict(zip(cols, rows))\n",
    "    data.append(tmp)\n",
    "\n",
    "res = {\n",
    "    'meta':{\n",
    "        'desc':'지역별 코로나 예방접종 인구 현황',\n",
    "        'cols':{\n",
    "            'loc':'지역'\n",
    "            , 'v1':'1차 접종자 수'\n",
    "            , 'v2':'2차 접종자 수'\n",
    "            , 'v3':'3차 접종자 수'\n",
    "            , 'v4':'4차 접종자 수'\n",
    "        },\n",
    "        'std_day':cal_std_day(1)\n",
    "    },\n",
    "    'data':data\n",
    "}\n",
    "\n",
    "client.write(file_dir + file_name, json.dumps(res, ensure_ascii=False), encoding='utf-8')\n"
   ]
  }
 ],
 "metadata": {
  "kernelspec": {
   "display_name": "Python 3 (ipykernel)",
   "language": "python",
   "name": "python3"
  },
  "language_info": {
   "codemirror_mode": {
    "name": "ipython",
    "version": 3
   },
   "file_extension": ".py",
   "mimetype": "text/x-python",
   "name": "python",
   "nbconvert_exporter": "python",
   "pygments_lexer": "ipython3",
   "version": "3.8.10"
  },
  "vscode": {
   "interpreter": {
    "hash": "916dbcbb3f70747c44a77c7bcd40155683ae19c65e1c03b4aa3499c5328201f1"
   }
  }
 },
 "nbformat": 4,
 "nbformat_minor": 5
}
