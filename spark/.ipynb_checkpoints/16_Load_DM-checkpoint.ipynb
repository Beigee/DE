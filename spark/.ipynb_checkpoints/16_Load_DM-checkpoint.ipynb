{
 "cells": [
  {
   "cell_type": "code",
   "execution_count": 3,
   "metadata": {},
   "outputs": [],
   "source": [
    "from IPython.core.interactiveshell import InteractiveShell\n",
    "InteractiveShell.ast_node_interactivity = \"all\""
   ]
  },
  {
   "cell_type": "code",
   "execution_count": null,
   "metadata": {},
   "outputs": [],
   "source": [
    "# 데이터마트용 계정 생성\n",
    "# sqlDeveloper에서 진행\n",
    "# create user dm_admin IDENTIFIED BY \"123qwe!@#QWE\";\n",
    "# grant dwrole to dm_admin;\n",
    "# grant unlimited tablespace to dm_admin;\n"
   ]
  },
  {
   "cell_type": "code",
   "execution_count": 4,
   "metadata": {},
   "outputs": [],
   "source": [
    "from datetime import date, datetime\n",
    "from pyspark.sql.types import *\n",
    "from pyspark.sql.functions import *\n",
    "import datetime as dt\n",
    "import pandas as pd\n",
    "import matplotlib.pyplot as plt #그래프 패키지 모듈 등록\n",
    "%matplotlib inline \n"
   ]
  },
  {
   "cell_type": "code",
   "execution_count": 5,
   "metadata": {},
   "outputs": [],
   "source": [
    "import platform\n",
    "\n",
    "from matplotlib import font_manager, rc\n",
    "plt.rcParams['axes.unicode_minus'] = False\n",
    "\n",
    "if platform.system() == 'Darwin':  # 맥OS \n",
    "    rc('font', family='AppleGothic')\n",
    "elif platform.system() == 'Windows':  # 윈도우\n",
    "    path = \"c:/Windows/Fonts/malgun.ttf\"\n",
    "    font_name = font_manager.FontProperties(fname=path).get_name()\n",
    "    rc('font', family=font_name)\n",
    "else:\n",
    "    rc('font', family='NanumGothic')"
   ]
  },
  {
   "cell_type": "code",
   "execution_count": 6,
   "metadata": {},
   "outputs": [],
   "source": [
    "def cal_std_day(befor_day):   \n",
    "    x = dt.datetime.now() - dt.timedelta(befor_day)\n",
    "    year = x.year\n",
    "    month = x.month if x.month >= 10 else '0'+ str(x.month)\n",
    "    day = x.day if x.day >= 10 else '0'+ str(x.day)  \n",
    "    return str(year)+ '-' +str(month)+ '-' +str(day)"
   ]
  },
  {
   "cell_type": "markdown",
   "metadata": {},
   "source": [
    "### JDBC"
   ]
  },
  {
   "cell_type": "code",
   "execution_count": 7,
   "metadata": {},
   "outputs": [],
   "source": [
    "JDBC_DW= {\n",
    "    'url':'jdbc:oracle:thin:@decorona_high?TNS_ADMIN=/home/big/study/db/Wallet_DECORONA'\n",
    "    , 'props':{\n",
    "        'user':'dw_de'\n",
    "        ,'password':'123qwe!@#QWE'\n",
    "    }\n",
    "}\n",
    "\n",
    "JDBC_DM= {\n",
    "    'url':'jdbc:oracle:thin:@decorona_high?TNS_ADMIN=/home/big/study/db/Wallet_DECORONA'\n",
    "    , 'props':{\n",
    "        'user':'dm_de'\n",
    "        ,'password':'123qwe!@#QWE'\n",
    "    }\n",
    "}"
   ]
  },
  {
   "cell_type": "markdown",
   "metadata": {},
   "source": [
    "## Load DataMart"
   ]
  },
  {
   "cell_type": "markdown",
   "metadata": {},
   "source": [
    "### 1. 지역별 단위면적(km)당 인구수와 코로나 확진자 수 데이터 저장"
   ]
  },
  {
   "cell_type": "code",
   "execution_count": 8,
   "metadata": {},
   "outputs": [
    {
     "name": "stderr",
     "output_type": "stream",
     "text": [
      "                                                                                \r"
     ]
    },
    {
     "name": "stdout",
     "output_type": "stream",
     "text": [
      "+----+----+----------+------------+\n",
      "| LOC|AREA|POPULATION|FACILITY_CNT|\n",
      "+----+----+----------+------------+\n",
      "|서울| 605|   9736027|        5224|\n",
      "|부산| 770|   3396109|        1462|\n",
      "|대구| 883|   2412642|        1015|\n",
      "+----+----+----------+------------+\n",
      "only showing top 3 rows\n",
      "\n"
     ]
    },
    {
     "name": "stderr",
     "output_type": "stream",
     "text": [
      "\r",
      "[Stage 1:>                                                          (0 + 1) / 1]\r"
     ]
    },
    {
     "name": "stdout",
     "output_type": "stream",
     "text": [
      "+------+----+---------+-------+-----------+--------+----------+\n",
      "|cp_idx| LOC|DEATH_CNT|DEF_CNT|LOC_OCC_CNT|QUR_RATE|   STD_DAY|\n",
      "+------+----+---------+-------+-----------+--------+----------+\n",
      "|   315|충남|      983| 768503|       3634|   36263|2022-07-28|\n",
      "|   316|광주|      573| 564428|       2443|   39153|2022-07-28|\n",
      "|   317|경남|     1351|1332140|       7565|   40195|2022-08-21|\n",
      "+------+----+---------+-------+-----------+--------+----------+\n",
      "only showing top 3 rows\n",
      "\n"
     ]
    },
    {
     "name": "stderr",
     "output_type": "stream",
     "text": [
      "\r",
      "                                                                                \r"
     ]
    }
   ],
   "source": [
    "popu = spark.read.jdbc(url=JDBC_DW['url'], table='loc', properties=JDBC_DW['props'])\n",
    "patients = spark.read.jdbc(url=JDBC_DW['url'], table='corona_patients', properties=JDBC_DW['props'])\n",
    "\n",
    "popu.show(3)\n",
    "patients.show(3)"
   ]
  },
  {
   "cell_type": "code",
   "execution_count": 15,
   "metadata": {
    "scrolled": true
   },
   "outputs": [
    {
     "name": "stderr",
     "output_type": "stream",
     "text": [
      "\r",
      "[Stage 18:>                 (0 + 1) / 1][Stage 19:>                 (0 + 1) / 1]\r",
      "\r",
      "[Stage 19:>                                                         (0 + 1) / 1]\r"
     ]
    },
    {
     "name": "stdout",
     "output_type": "stream",
     "text": [
      "+----+------------+--------+----------+\n",
      "| loc|POPU_DENSITY|qur_rate|   std_day|\n",
      "+----+------------+--------+----------+\n",
      "|강원|          93|   36318|2022-07-28|\n",
      "|광주|        2920|   39153|2022-07-28|\n",
      "|대구|        2733|   34103|2022-07-28|\n",
      "|대전|        2722|   37839|2022-07-28|\n",
      "|부산|        4411|   35083|2022-07-28|\n",
      "|경기|        1366|   39145|2022-07-28|\n",
      "|울산|        1072|   37239|2022-07-28|\n",
      "|인천|        2831|   38908|2022-07-28|\n",
      "|전남|         152|   34379|2022-07-28|\n",
      "|전북|         226|   35868|2022-07-28|\n",
      "|제주|         378|   39131|2022-07-28|\n",
      "|충남|         265|   36263|2022-07-28|\n",
      "|충북|         221|   37296|2022-07-28|\n",
      "|서울|       16093|   41322|2022-07-28|\n",
      "|경남|         321|   35192|2022-07-28|\n",
      "|세종|         811|   40272|2022-07-28|\n",
      "|경북|         141|   32018|2022-07-28|\n",
      "|경남|         321|   35327|2022-07-29|\n",
      "|경기|        1366|   39319|2022-07-29|\n",
      "|강원|          93|   36498|2022-07-29|\n",
      "+----+------------+--------+----------+\n",
      "only showing top 20 rows\n",
      "\n"
     ]
    },
    {
     "name": "stderr",
     "output_type": "stream",
     "text": [
      "\r",
      "                                                                                \r"
     ]
    }
   ],
   "source": [
    "pop_patients = popu.join(patients, on='loc') \\\n",
    "                            .select('loc', \n",
    "                                   ceil(col('population')/col('area')).alias('POPU_DENSITY'),\n",
    "                                        'qur_rate',\n",
    "                                        'std_day') \\\n",
    "                                    .orderBy(col('std_day'))\n",
    "pop_patients.show()"
   ]
  },
  {
   "cell_type": "code",
   "execution_count": 16,
   "metadata": {},
   "outputs": [
    {
     "name": "stderr",
     "output_type": "stream",
     "text": [
      "                                                                                \r"
     ]
    }
   ],
   "source": [
    "pop_patients.write.jdbc(url=JDBC_DM['url'], table='CO_POPU_DENSITY', mode='append', properties=JDBC_DM['props'])"
   ]
  },
  {
   "cell_type": "markdown",
   "metadata": {},
   "source": [
    "### 2.  백신접종 완료자와 코로나 확진자 수 데이터 저장"
   ]
  },
  {
   "cell_type": "code",
   "execution_count": 9,
   "metadata": {},
   "outputs": [],
   "source": [
    "vaccine = spark.read.jdbc(url=JDBC_DW['url'], table='CORONA_VACCINE', properties=JDBC_DW['props'])"
   ]
  },
  {
   "cell_type": "code",
   "execution_count": 10,
   "metadata": {},
   "outputs": [
    {
     "name": "stderr",
     "output_type": "stream",
     "text": [
      "\r",
      "[Stage 2:>                                                          (0 + 1) / 1]\r"
     ]
    },
    {
     "name": "stdout",
     "output_type": "stream",
     "text": [
      "+------+----+----+-------+----------+\n",
      "|CV_IDX| LOC|V_TH|  V_CNT|   STD_DAY|\n",
      "+------+----+----+-------+----------+\n",
      "|     1|서울|  v2|8261615|2022-09-18|\n",
      "|     2|서울|  v4|1231362|2022-09-18|\n",
      "|     3|서울|  v1|8340437|2022-09-18|\n",
      "+------+----+----+-------+----------+\n",
      "only showing top 3 rows\n",
      "\n"
     ]
    },
    {
     "name": "stderr",
     "output_type": "stream",
     "text": [
      "\r",
      "                                                                                \r"
     ]
    }
   ],
   "source": [
    "vaccine.show(3)"
   ]
  },
  {
   "cell_type": "code",
   "execution_count": 11,
   "metadata": {
    "scrolled": true
   },
   "outputs": [
    {
     "name": "stderr",
     "output_type": "stream",
     "text": [
      "WARNING:root:'PYARROW_IGNORE_TIMEZONE' environment variable was not set. It is required to set this environment variable to '1' in both driver and executor sides if you use pyarrow>=2.0.0. pandas-on-Spark will set it for you but it does not work if there is a Spark context already launched.\n",
      "                                                                                \r"
     ]
    },
    {
     "data": {
      "text/html": [
       "<div>\n",
       "<style scoped>\n",
       "    .dataframe tbody tr th:only-of-type {\n",
       "        vertical-align: middle;\n",
       "    }\n",
       "\n",
       "    .dataframe tbody tr th {\n",
       "        vertical-align: top;\n",
       "    }\n",
       "\n",
       "    .dataframe thead th {\n",
       "        text-align: right;\n",
       "    }\n",
       "</style>\n",
       "<table border=\"1\" class=\"dataframe\">\n",
       "  <thead>\n",
       "    <tr style=\"text-align: right;\">\n",
       "      <th></th>\n",
       "      <th>V_TH</th>\n",
       "      <th>v1</th>\n",
       "      <th>v2</th>\n",
       "      <th>v3</th>\n",
       "      <th>v4</th>\n",
       "    </tr>\n",
       "    <tr>\n",
       "      <th>LOC</th>\n",
       "      <th>STD_DAY</th>\n",
       "      <th></th>\n",
       "      <th></th>\n",
       "      <th></th>\n",
       "      <th></th>\n",
       "    </tr>\n",
       "  </thead>\n",
       "  <tbody>\n",
       "    <tr>\n",
       "      <th>경기</th>\n",
       "      <th>2022-09-18</th>\n",
       "      <td>11828148.0000</td>\n",
       "      <td>11712435.0000</td>\n",
       "      <td>8678460.0000</td>\n",
       "      <td>1688068.0000</td>\n",
       "    </tr>\n",
       "    <tr>\n",
       "      <th>충북</th>\n",
       "      <th>2022-09-18</th>\n",
       "      <td>1429660.0000</td>\n",
       "      <td>1417015.0000</td>\n",
       "      <td>1106015.0000</td>\n",
       "      <td>278087.0000</td>\n",
       "    </tr>\n",
       "    <tr>\n",
       "      <th>울산</th>\n",
       "      <th>2022-09-18</th>\n",
       "      <td>968616.0000</td>\n",
       "      <td>959274.0000</td>\n",
       "      <td>719551.0000</td>\n",
       "      <td>125398.0000</td>\n",
       "    </tr>\n",
       "    <tr>\n",
       "      <th>경북</th>\n",
       "      <th>2022-09-18</th>\n",
       "      <td>2293393.0000</td>\n",
       "      <td>2269467.0000</td>\n",
       "      <td>1724688.0000</td>\n",
       "      <td>395869.0000</td>\n",
       "    </tr>\n",
       "    <tr>\n",
       "      <th>대구</th>\n",
       "      <th>2022-09-18</th>\n",
       "      <td>2019298.0000</td>\n",
       "      <td>1996365.0000</td>\n",
       "      <td>1402789.0000</td>\n",
       "      <td>260381.0000</td>\n",
       "    </tr>\n",
       "    <tr>\n",
       "      <th>인천</th>\n",
       "      <th>2022-09-18</th>\n",
       "      <td>2570971.0000</td>\n",
       "      <td>2546449.0000</td>\n",
       "      <td>1908028.0000</td>\n",
       "      <td>396104.0000</td>\n",
       "    </tr>\n",
       "    <tr>\n",
       "      <th>서울</th>\n",
       "      <th>2022-09-18</th>\n",
       "      <td>8340437.0000</td>\n",
       "      <td>8261615.0000</td>\n",
       "      <td>6058568.0000</td>\n",
       "      <td>1231362.0000</td>\n",
       "    </tr>\n",
       "    <tr>\n",
       "      <th>경남</th>\n",
       "      <th>2022-09-18</th>\n",
       "      <td>2883579.0000</td>\n",
       "      <td>2854198.0000</td>\n",
       "      <td>2142332.0000</td>\n",
       "      <td>485197.0000</td>\n",
       "    </tr>\n",
       "    <tr>\n",
       "      <th>충남</th>\n",
       "      <th>2022-09-18</th>\n",
       "      <td>1899521.0000</td>\n",
       "      <td>1881852.0000</td>\n",
       "      <td>1475649.0000</td>\n",
       "      <td>366884.0000</td>\n",
       "    </tr>\n",
       "    <tr>\n",
       "      <th>광주</th>\n",
       "      <th>2022-09-18</th>\n",
       "      <td>1262686.0000</td>\n",
       "      <td>1251041.0000</td>\n",
       "      <td>968138.0000</td>\n",
       "      <td>234405.0000</td>\n",
       "    </tr>\n",
       "    <tr>\n",
       "      <th>전남</th>\n",
       "      <th>2022-09-18</th>\n",
       "      <td>1654761.0000</td>\n",
       "      <td>1640127.0000</td>\n",
       "      <td>1363331.0000</td>\n",
       "      <td>445122.0000</td>\n",
       "    </tr>\n",
       "    <tr>\n",
       "      <th>부산</th>\n",
       "      <th>2022-09-18</th>\n",
       "      <td>2879935.0000</td>\n",
       "      <td>2851047.0000</td>\n",
       "      <td>2134874.0000</td>\n",
       "      <td>490187.0000</td>\n",
       "    </tr>\n",
       "    <tr>\n",
       "      <th>대전</th>\n",
       "      <th>2022-09-18</th>\n",
       "      <td>1246195.0000</td>\n",
       "      <td>1233926.0000</td>\n",
       "      <td>907679.0000</td>\n",
       "      <td>193829.0000</td>\n",
       "    </tr>\n",
       "    <tr>\n",
       "      <th>강원</th>\n",
       "      <th>2022-09-18</th>\n",
       "      <td>1350365.0000</td>\n",
       "      <td>1338994.0000</td>\n",
       "      <td>1062198.0000</td>\n",
       "      <td>270055.0000</td>\n",
       "    </tr>\n",
       "    <tr>\n",
       "      <th>제주</th>\n",
       "      <th>2022-09-18</th>\n",
       "      <td>590587.0000</td>\n",
       "      <td>584841.0000</td>\n",
       "      <td>437858.0000</td>\n",
       "      <td>92385.0000</td>\n",
       "    </tr>\n",
       "    <tr>\n",
       "      <th>세종</th>\n",
       "      <th>2022-09-18</th>\n",
       "      <td>298612.0000</td>\n",
       "      <td>294854.0000</td>\n",
       "      <td>209194.0000</td>\n",
       "      <td>34695.0000</td>\n",
       "    </tr>\n",
       "    <tr>\n",
       "      <th>전북</th>\n",
       "      <th>2022-09-18</th>\n",
       "      <td>1593762.0000</td>\n",
       "      <td>1580606.0000</td>\n",
       "      <td>1284213.0000</td>\n",
       "      <td>371028.0000</td>\n",
       "    </tr>\n",
       "  </tbody>\n",
       "</table>\n",
       "</div>"
      ],
      "text/plain": [
       "V_TH                       v1             v2            v3            v4\n",
       "LOC STD_DAY                                                             \n",
       "경기  2022-09-18  11828148.0000  11712435.0000  8678460.0000  1688068.0000\n",
       "충북  2022-09-18   1429660.0000   1417015.0000  1106015.0000   278087.0000\n",
       "울산  2022-09-18    968616.0000    959274.0000   719551.0000   125398.0000\n",
       "경북  2022-09-18   2293393.0000   2269467.0000  1724688.0000   395869.0000\n",
       "대구  2022-09-18   2019298.0000   1996365.0000  1402789.0000   260381.0000\n",
       "인천  2022-09-18   2570971.0000   2546449.0000  1908028.0000   396104.0000\n",
       "서울  2022-09-18   8340437.0000   8261615.0000  6058568.0000  1231362.0000\n",
       "경남  2022-09-18   2883579.0000   2854198.0000  2142332.0000   485197.0000\n",
       "충남  2022-09-18   1899521.0000   1881852.0000  1475649.0000   366884.0000\n",
       "광주  2022-09-18   1262686.0000   1251041.0000   968138.0000   234405.0000\n",
       "전남  2022-09-18   1654761.0000   1640127.0000  1363331.0000   445122.0000\n",
       "부산  2022-09-18   2879935.0000   2851047.0000  2134874.0000   490187.0000\n",
       "대전  2022-09-18   1246195.0000   1233926.0000   907679.0000   193829.0000\n",
       "강원  2022-09-18   1350365.0000   1338994.0000  1062198.0000   270055.0000\n",
       "제주  2022-09-18    590587.0000    584841.0000   437858.0000    92385.0000\n",
       "세종  2022-09-18    298612.0000    294854.0000   209194.0000    34695.0000\n",
       "전북  2022-09-18   1593762.0000   1580606.0000  1284213.0000   371028.0000"
      ]
     },
     "execution_count": 11,
     "metadata": {},
     "output_type": "execute_result"
    },
    {
     "name": "stderr",
     "output_type": "stream",
     "text": [
      "\r",
      "[Stage 15:>                                                         (0 + 1) / 1]\r"
     ]
    },
    {
     "name": "stdout",
     "output_type": "stream",
     "text": [
      "+------+----+----+-------+----------+\n",
      "|CV_IDX| LOC|V_TH|  V_CNT|   STD_DAY|\n",
      "+------+----+----+-------+----------+\n",
      "|     1|서울|  v2|8261615|2022-09-18|\n",
      "|     2|서울|  v4|1231362|2022-09-18|\n",
      "|     3|서울|  v1|8340437|2022-09-18|\n",
      "|     4|서울|  v3|6058568|2022-09-18|\n",
      "|     5|부산|  v2|2851047|2022-09-18|\n",
      "+------+----+----+-------+----------+\n",
      "only showing top 5 rows\n",
      "\n"
     ]
    },
    {
     "name": "stderr",
     "output_type": "stream",
     "text": [
      "\r",
      "                                                                                \r"
     ]
    }
   ],
   "source": [
    "pd_vaccine = vaccine.to_pandas_on_spark()\n",
    "pd_vaccine = pd_vaccine.pivot_table(index=['LOC', 'STD_DAY'], columns='V_TH', values='V_CNT')\n",
    "pd_vaccine\n",
    "pd_vaccine = pd_vaccine.reset_index()\n",
    "tmp = pd_vaccine.to_spark()\n",
    "vaccine.show(5)\n"
   ]
  },
  {
   "cell_type": "code",
   "execution_count": 12,
   "metadata": {},
   "outputs": [
    {
     "name": "stderr",
     "output_type": "stream",
     "text": [
      "[Stage 18:>                                                         (0 + 1) / 1]\r"
     ]
    },
    {
     "name": "stdout",
     "output_type": "stream",
     "text": [
      "+----+----------+---------+---------+---------+---------+--------+\n",
      "| LOC|   STD_DAY|V1TH_RATE|V2TH_RATE|V3TH_RATE|V4TH_RATE|QUR_RATE|\n",
      "+----+----------+---------+---------+---------+---------+--------+\n",
      "|대구|2022-07-28|       84|       83|       59|       11|   34103|\n",
      "|울산|2022-07-28|       86|       85|       64|       12|   37239|\n",
      "|대전|2022-07-28|       85|       84|       62|       14|   37839|\n",
      "|경기|2022-07-28|       85|       85|       63|       13|   39145|\n",
      "|부산|2022-07-28|       85|       84|       63|       15|   35083|\n",
      "+----+----------+---------+---------+---------+---------+--------+\n",
      "only showing top 5 rows\n",
      "\n"
     ]
    },
    {
     "name": "stderr",
     "output_type": "stream",
     "text": [
      "\r",
      "                                                                                \r"
     ]
    }
   ],
   "source": [
    "vac_rate = tmp.join(popu, on='LOC') \\\n",
    "                    .join(patients, on='LOC') \\\n",
    "                    .select('LOC', patients.STD_DAY\n",
    "                               ,ceil(col('v1')/col('population') * 100).alias('V1TH_RATE')\n",
    "                                ,ceil(col('v2')/col('population') * 100).alias('V2TH_RATE')\n",
    "                                ,ceil(col('v3')/col('population') * 100).alias('V3TH_RATE')\n",
    "                                ,ceil(col('v4')/col('population') * 100).alias('V4TH_RATE')\n",
    "                                , 'QUR_RATE'\n",
    "                               ).orderBy(col('std_day'))\n",
    "\n",
    "vac_rate.show(5)"
   ]
  },
  {
   "cell_type": "code",
   "execution_count": 13,
   "metadata": {},
   "outputs": [
    {
     "name": "stderr",
     "output_type": "stream",
     "text": [
      "                                                                                \r"
     ]
    }
   ],
   "source": [
    "vac_rate.write.jdbc(url=JDBC_DM['url'], table='CO_VACCINE', mode='append', properties=JDBC_DM['props'])"
   ]
  },
  {
   "cell_type": "markdown",
   "metadata": {},
   "source": [
    "### 3. 다중이용시설과 코로나 확진자 수의 상관관계"
   ]
  },
  {
   "cell_type": "code",
   "execution_count": 12,
   "metadata": {
    "scrolled": true
   },
   "outputs": [],
   "source": []
  },
  {
   "cell_type": "code",
   "execution_count": 13,
   "metadata": {},
   "outputs": [],
   "source": []
  },
  {
   "cell_type": "code",
   "execution_count": 14,
   "metadata": {},
   "outputs": [
    {
     "name": "stderr",
     "output_type": "stream",
     "text": [
      "                                                                                \r"
     ]
    }
   ],
   "source": []
  },
  {
   "cell_type": "markdown",
   "metadata": {},
   "source": [
    "### 4. 요일별 코로나 확진자 수를 구해보자"
   ]
  },
  {
   "cell_type": "code",
   "execution_count": null,
   "metadata": {},
   "outputs": [],
   "source": []
  },
  {
   "cell_type": "code",
   "execution_count": 16,
   "metadata": {},
   "outputs": [
    {
     "name": "stderr",
     "output_type": "stream",
     "text": [
      "                                                                                \r"
     ]
    }
   ],
   "source": []
  }
 ],
 "metadata": {
  "kernelspec": {
   "display_name": "Python 3 (ipykernel)",
   "language": "python",
   "name": "python3"
  },
  "language_info": {
   "codemirror_mode": {
    "name": "ipython",
    "version": 3
   },
   "file_extension": ".py",
   "mimetype": "text/x-python",
   "name": "python",
   "nbconvert_exporter": "python",
   "pygments_lexer": "ipython3",
   "version": "3.8.10"
  },
  "vscode": {
   "interpreter": {
    "hash": "377b85fccf01b1fe6a959144825e6c17ac3718c2615da119d71a1f46ada91329"
   }
  }
 },
 "nbformat": 4,
 "nbformat_minor": 5
}
